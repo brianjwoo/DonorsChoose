{
 "cells": [
  {
   "cell_type": "code",
   "execution_count": 38,
   "metadata": {
    "collapsed": true
   },
   "outputs": [],
   "source": [
    "#M4.4XLarge EC2\n",
    "import pandas as pd\n",
    "import numpy as np\n",
    "import re\n",
    "import string\n",
    "import sys\n",
    "import os\n",
    "import datetime\n",
    "\n",
    "import requests\n",
    "\n",
    "import matplotlib.pyplot as plt\n",
    "#import seaborn as sns\n",
    "\n",
    "from collections import Counter\n",
    "\n",
    "plt.style.use('ggplot')\n",
    "%matplotlib inline\n"
   ]
  },
  {
   "cell_type": "code",
   "execution_count": 2,
   "metadata": {
    "collapsed": false
   },
   "outputs": [],
   "source": [
    "#Looking at resources requested for each project\n",
    "f = open('./data/opendata_donations.csv')\n",
    "header = f.readline().split(',')\n",
    "\n",
    "header = [c.strip() for c in header]\n",
    "donations_raw = f.read()\n",
    "f.close()\n",
    "\n",
    "donations_row_text = re.split('\"\\n\"', donations_raw)\n",
    "del donations_raw\n",
    "\n",
    "donations_for_df = []\n",
    "for row in donations_row_text:\n",
    "    donations_for_df.append(re.split('\",\"', row))\n",
    "del donations_row_text\n",
    "\n",
    "donations = pd.DataFrame(donations_for_df, columns=header)\n",
    "del donations_for_df"
   ]
  },
  {
   "cell_type": "code",
   "execution_count": 4,
   "metadata": {
    "collapsed": false
   },
   "outputs": [],
   "source": [
    "donations.iloc[0,0] = donations.iloc[0,0][1:] #fixes the parsing issue\n",
    "donations.iloc[-1,-1] = donations.iloc[-1,-1][:-2] #fixes the parsing issue"
   ]
  },
  {
   "cell_type": "code",
   "execution_count": 40,
   "metadata": {
    "collapsed": false
   },
   "outputs": [
    {
     "data": {
      "text/html": [
       "<div>\n",
       "<table border=\"1\" class=\"dataframe\">\n",
       "  <thead>\n",
       "    <tr style=\"text-align: right;\">\n",
       "      <th></th>\n",
       "      <th>_donationid</th>\n",
       "      <th>_projectid</th>\n",
       "      <th>_donor_acctid</th>\n",
       "      <th>_cartid</th>\n",
       "      <th>donor_city</th>\n",
       "      <th>donor_state</th>\n",
       "      <th>donor_zip</th>\n",
       "      <th>is_teacher_acct</th>\n",
       "      <th>donation_timestamp</th>\n",
       "      <th>donation_to_project</th>\n",
       "      <th>...</th>\n",
       "      <th>donation_included_optional_support</th>\n",
       "      <th>payment_method</th>\n",
       "      <th>payment_included_acct_credit</th>\n",
       "      <th>payment_included_campaign_gift_card</th>\n",
       "      <th>payment_included_web_purchased_gift_card</th>\n",
       "      <th>payment_was_promo_matched</th>\n",
       "      <th>via_giving_page</th>\n",
       "      <th>for_honoree</th>\n",
       "      <th>thank_you_packet_mailed</th>\n",
       "      <th>donation_message</th>\n",
       "    </tr>\n",
       "  </thead>\n",
       "  <tbody>\n",
       "    <tr>\n",
       "      <th>0</th>\n",
       "      <td>000009891526c0ade7180f8423792063</td>\n",
       "      <td>26f02742185eb1f73f3bc5be4655fae2</td>\n",
       "      <td>c91489d7b6b89943a28555e6add72509</td>\n",
       "      <td>2b188e02e8886c1bb2708bc56f6a3d2f</td>\n",
       "      <td></td>\n",
       "      <td>NJ</td>\n",
       "      <td>070</td>\n",
       "      <td>t</td>\n",
       "      <td>2013-05-26 11:28:31.30</td>\n",
       "      <td>63.75</td>\n",
       "      <td>...</td>\n",
       "      <td>t</td>\n",
       "      <td>creditcard</td>\n",
       "      <td>f</td>\n",
       "      <td>f</td>\n",
       "      <td>f</td>\n",
       "      <td>t</td>\n",
       "      <td>f</td>\n",
       "      <td>f</td>\n",
       "      <td>f</td>\n",
       "      <td></td>\n",
       "    </tr>\n",
       "    <tr>\n",
       "      <th>1</th>\n",
       "      <td>00000ce845c00cbf0686c992fc369df4</td>\n",
       "      <td>7be7184572a67468a2ef4402e7de6c99</td>\n",
       "      <td>01e2385f52c03386ee345c517be8f84e</td>\n",
       "      <td></td>\n",
       "      <td></td>\n",
       "      <td>NY</td>\n",
       "      <td></td>\n",
       "      <td>f</td>\n",
       "      <td>2011-12-09 18:36:26.79</td>\n",
       "      <td>21.25</td>\n",
       "      <td>...</td>\n",
       "      <td>t</td>\n",
       "      <td>promo_code_match</td>\n",
       "      <td>f</td>\n",
       "      <td>f</td>\n",
       "      <td>f</td>\n",
       "      <td>f</td>\n",
       "      <td>f</td>\n",
       "      <td>f</td>\n",
       "      <td>f</td>\n",
       "      <td>Friends and Family matching donation provided ...</td>\n",
       "    </tr>\n",
       "    <tr>\n",
       "      <th>2</th>\n",
       "      <td>0000174d1d38072889d47e51b587a10c</td>\n",
       "      <td>fbef21e4fdf303eebe6c48b99ef9de8f</td>\n",
       "      <td>f495e99822acc50e934a57943400bcfe</td>\n",
       "      <td>db07e0db53dfa402c4a2aa02d46583d4</td>\n",
       "      <td>San Francisco</td>\n",
       "      <td>CA</td>\n",
       "      <td>941</td>\n",
       "      <td>f</td>\n",
       "      <td>2011-12-15 01:07:26.085</td>\n",
       "      <td>1817.36</td>\n",
       "      <td>...</td>\n",
       "      <td>t</td>\n",
       "      <td>no_cash_received</td>\n",
       "      <td>t</td>\n",
       "      <td>f</td>\n",
       "      <td>f</td>\n",
       "      <td>f</td>\n",
       "      <td>t</td>\n",
       "      <td>f</td>\n",
       "      <td>f</td>\n",
       "      <td>Chevron is committed to securing California’s ...</td>\n",
       "    </tr>\n",
       "    <tr>\n",
       "      <th>3</th>\n",
       "      <td>0000219e4b37d2504fb6b8c28e24a2d4</td>\n",
       "      <td>b4afbc05ce9ff8420c176810bd59db79</td>\n",
       "      <td>d63c0d8e5b76530d476486e3336e1f3c</td>\n",
       "      <td>9bd9e83716ecd6bee6e467e9b82964ab</td>\n",
       "      <td>Ballwin</td>\n",
       "      <td>MO</td>\n",
       "      <td>630</td>\n",
       "      <td>f</td>\n",
       "      <td>2012-03-01 18:29:59.269</td>\n",
       "      <td>40.43</td>\n",
       "      <td>...</td>\n",
       "      <td>t</td>\n",
       "      <td>paypal</td>\n",
       "      <td>f</td>\n",
       "      <td>f</td>\n",
       "      <td>f</td>\n",
       "      <td>f</td>\n",
       "      <td>f</td>\n",
       "      <td>f</td>\n",
       "      <td>f</td>\n",
       "      <td>I donated because the project will bring impor...</td>\n",
       "    </tr>\n",
       "    <tr>\n",
       "      <th>4</th>\n",
       "      <td>0000300773fe015f870914b42528541b</td>\n",
       "      <td>f8fac919961560831eac7e5dd05c872d</td>\n",
       "      <td>e0dd67c660dc50ec1b2dadf37f3c65d4</td>\n",
       "      <td></td>\n",
       "      <td></td>\n",
       "      <td>NY</td>\n",
       "      <td>100</td>\n",
       "      <td>f</td>\n",
       "      <td>2014-08-14 18:54:57.663</td>\n",
       "      <td>21.25</td>\n",
       "      <td>...</td>\n",
       "      <td>t</td>\n",
       "      <td>promo_code_match</td>\n",
       "      <td>f</td>\n",
       "      <td>f</td>\n",
       "      <td>f</td>\n",
       "      <td>f</td>\n",
       "      <td>t</td>\n",
       "      <td>f</td>\n",
       "      <td>f</td>\n",
       "      <td>Courtesy of an anonymous donor. Best of luck w...</td>\n",
       "    </tr>\n",
       "  </tbody>\n",
       "</table>\n",
       "<p>5 rows × 23 columns</p>\n",
       "</div>"
      ],
      "text/plain": [
       "                        _donationid                        _projectid  \\\n",
       "0  000009891526c0ade7180f8423792063  26f02742185eb1f73f3bc5be4655fae2   \n",
       "1  00000ce845c00cbf0686c992fc369df4  7be7184572a67468a2ef4402e7de6c99   \n",
       "2  0000174d1d38072889d47e51b587a10c  fbef21e4fdf303eebe6c48b99ef9de8f   \n",
       "3  0000219e4b37d2504fb6b8c28e24a2d4  b4afbc05ce9ff8420c176810bd59db79   \n",
       "4  0000300773fe015f870914b42528541b  f8fac919961560831eac7e5dd05c872d   \n",
       "\n",
       "                      _donor_acctid                           _cartid  \\\n",
       "0  c91489d7b6b89943a28555e6add72509  2b188e02e8886c1bb2708bc56f6a3d2f   \n",
       "1  01e2385f52c03386ee345c517be8f84e                                     \n",
       "2  f495e99822acc50e934a57943400bcfe  db07e0db53dfa402c4a2aa02d46583d4   \n",
       "3  d63c0d8e5b76530d476486e3336e1f3c  9bd9e83716ecd6bee6e467e9b82964ab   \n",
       "4  e0dd67c660dc50ec1b2dadf37f3c65d4                                     \n",
       "\n",
       "      donor_city donor_state donor_zip is_teacher_acct  \\\n",
       "0                         NJ       070               t   \n",
       "1                         NY                         f   \n",
       "2  San Francisco          CA       941               f   \n",
       "3        Ballwin          MO       630               f   \n",
       "4                         NY       100               f   \n",
       "\n",
       "        donation_timestamp donation_to_project  \\\n",
       "0   2013-05-26 11:28:31.30               63.75   \n",
       "1   2011-12-09 18:36:26.79               21.25   \n",
       "2  2011-12-15 01:07:26.085             1817.36   \n",
       "3  2012-03-01 18:29:59.269               40.43   \n",
       "4  2014-08-14 18:54:57.663               21.25   \n",
       "\n",
       "                         ...                          \\\n",
       "0                        ...                           \n",
       "1                        ...                           \n",
       "2                        ...                           \n",
       "3                        ...                           \n",
       "4                        ...                           \n",
       "\n",
       "  donation_included_optional_support    payment_method  \\\n",
       "0                                  t        creditcard   \n",
       "1                                  t  promo_code_match   \n",
       "2                                  t  no_cash_received   \n",
       "3                                  t            paypal   \n",
       "4                                  t  promo_code_match   \n",
       "\n",
       "  payment_included_acct_credit payment_included_campaign_gift_card  \\\n",
       "0                            f                                   f   \n",
       "1                            f                                   f   \n",
       "2                            t                                   f   \n",
       "3                            f                                   f   \n",
       "4                            f                                   f   \n",
       "\n",
       "  payment_included_web_purchased_gift_card payment_was_promo_matched  \\\n",
       "0                                        f                         t   \n",
       "1                                        f                         f   \n",
       "2                                        f                         f   \n",
       "3                                        f                         f   \n",
       "4                                        f                         f   \n",
       "\n",
       "  via_giving_page for_honoree thank_you_packet_mailed  \\\n",
       "0               f           f                       f   \n",
       "1               f           f                       f   \n",
       "2               t           f                       f   \n",
       "3               f           f                       f   \n",
       "4               t           f                       f   \n",
       "\n",
       "                                    donation_message  \n",
       "0                                                     \n",
       "1  Friends and Family matching donation provided ...  \n",
       "2  Chevron is committed to securing California’s ...  \n",
       "3  I donated because the project will bring impor...  \n",
       "4  Courtesy of an anonymous donor. Best of luck w...  \n",
       "\n",
       "[5 rows x 23 columns]"
      ]
     },
     "execution_count": 40,
     "metadata": {},
     "output_type": "execute_result"
    }
   ],
   "source": [
    "donations.head()"
   ]
  },
  {
   "cell_type": "code",
   "execution_count": 41,
   "metadata": {
    "collapsed": true
   },
   "outputs": [],
   "source": [
    "d = donations[['_donationid', '_donor_acctid']].groupby('_donor_acctid').count()"
   ]
  },
  {
   "cell_type": "code",
   "execution_count": 42,
   "metadata": {
    "collapsed": false
   },
   "outputs": [
    {
     "data": {
      "text/plain": [
       "<matplotlib.text.Text at 0x7fe402d4f690>"
      ]
     },
     "execution_count": 42,
     "metadata": {},
     "output_type": "execute_result"
    },
    {
     "data": {
      "image/png": "[encoded data removed]",
      "text/plain": [
       "<matplotlib.figure.Figure at 0x7fe402d8d890>"
      ]
     },
     "metadata": {},
     "output_type": "display_data"
    }
   ],
   "source": [
    "d._donationid.value_counts()[:10].plot(figsize=(15,10), kind='bar')\n",
    "plt.title('Number of Times a Donor Appears in the Data')"
   ]
  },
  {
   "cell_type": "code",
   "execution_count": 43,
   "metadata": {
    "collapsed": false
   },
   "outputs": [
    {
     "name": "stderr",
     "output_type": "stream",
     "text": [
      "/home/ubuntu/anaconda/lib/python2.7/site-packages/IPython/kernel/__main__.py:1: FutureWarning: sort(columns=....) is deprecated, use sort_values(by=.....)\n",
      "  if __name__ == '__main__':\n"
     ]
    },
    {
     "data": {
      "text/html": [
       "<div>\n",
       "<table border=\"1\" class=\"dataframe\">\n",
       "  <thead>\n",
       "    <tr style=\"text-align: right;\">\n",
       "      <th></th>\n",
       "      <th>_donationid</th>\n",
       "    </tr>\n",
       "    <tr>\n",
       "      <th>_donor_acctid</th>\n",
       "      <th></th>\n",
       "    </tr>\n",
       "  </thead>\n",
       "  <tbody>\n",
       "    <tr>\n",
       "      <th>e0dd67c660dc50ec1b2dadf37f3c65d4</th>\n",
       "      <td>94686</td>\n",
       "    </tr>\n",
       "    <tr>\n",
       "      <th>68c355078d2e13b3d0ec6f887f9bca9c</th>\n",
       "      <td>93386</td>\n",
       "    </tr>\n",
       "    <tr>\n",
       "      <th>41d1e5bcc907b51150887d8fe591ffa3</th>\n",
       "      <td>90754</td>\n",
       "    </tr>\n",
       "    <tr>\n",
       "      <th>d521928ee75d2c34ace4949bd250d6ee</th>\n",
       "      <td>57110</td>\n",
       "    </tr>\n",
       "    <tr>\n",
       "      <th>f016d149d1910994193078c4cce1c9eb</th>\n",
       "      <td>49985</td>\n",
       "    </tr>\n",
       "    <tr>\n",
       "      <th>af50cb46f3d253b2f65e07e4ad901453</th>\n",
       "      <td>20887</td>\n",
       "    </tr>\n",
       "    <tr>\n",
       "      <th>88ea0473fdeb2e2cf3e700b779e59e35</th>\n",
       "      <td>19942</td>\n",
       "    </tr>\n",
       "    <tr>\n",
       "      <th>038341ecaec6cfe0953de53a101b1a83</th>\n",
       "      <td>16788</td>\n",
       "    </tr>\n",
       "    <tr>\n",
       "      <th>01e2385f52c03386ee345c517be8f84e</th>\n",
       "      <td>14233</td>\n",
       "    </tr>\n",
       "    <tr>\n",
       "      <th>11eea492b56851fbea3d7ebad8d7c907</th>\n",
       "      <td>13134</td>\n",
       "    </tr>\n",
       "    <tr>\n",
       "      <th>b83ea08f81ad5abeeaf37df806f1925a</th>\n",
       "      <td>12872</td>\n",
       "    </tr>\n",
       "    <tr>\n",
       "      <th>0a638df105fc0988462d46dadf607210</th>\n",
       "      <td>12464</td>\n",
       "    </tr>\n",
       "    <tr>\n",
       "      <th>f3dad5a45da9db2f010f4e72b6a6e483</th>\n",
       "      <td>11080</td>\n",
       "    </tr>\n",
       "    <tr>\n",
       "      <th>6f74ffb17cbb2b616b1eef06bd4acd0c</th>\n",
       "      <td>11005</td>\n",
       "    </tr>\n",
       "    <tr>\n",
       "      <th>611823291efb42db3d5e45f0db952434</th>\n",
       "      <td>10929</td>\n",
       "    </tr>\n",
       "    <tr>\n",
       "      <th>afe89b969f5b43e1f40c61ccfa8987e8</th>\n",
       "      <td>10716</td>\n",
       "    </tr>\n",
       "    <tr>\n",
       "      <th>790b63d40f852d54dce4b560cf3b0045</th>\n",
       "      <td>10151</td>\n",
       "    </tr>\n",
       "    <tr>\n",
       "      <th>237db43817f34988f9d543ca518be4ee</th>\n",
       "      <td>9647</td>\n",
       "    </tr>\n",
       "    <tr>\n",
       "      <th>a0e1d358aa17745ff3d3f4e4909356f3</th>\n",
       "      <td>9362</td>\n",
       "    </tr>\n",
       "    <tr>\n",
       "      <th>06ed4cceabedbfcf3018ff2534c51c1c</th>\n",
       "      <td>9229</td>\n",
       "    </tr>\n",
       "  </tbody>\n",
       "</table>\n",
       "</div>"
      ],
      "text/plain": [
       "                                  _donationid\n",
       "_donor_acctid                                \n",
       "e0dd67c660dc50ec1b2dadf37f3c65d4        94686\n",
       "68c355078d2e13b3d0ec6f887f9bca9c        93386\n",
       "41d1e5bcc907b51150887d8fe591ffa3        90754\n",
       "d521928ee75d2c34ace4949bd250d6ee        57110\n",
       "f016d149d1910994193078c4cce1c9eb        49985\n",
       "af50cb46f3d253b2f65e07e4ad901453        20887\n",
       "88ea0473fdeb2e2cf3e700b779e59e35        19942\n",
       "038341ecaec6cfe0953de53a101b1a83        16788\n",
       "01e2385f52c03386ee345c517be8f84e        14233\n",
       "11eea492b56851fbea3d7ebad8d7c907        13134\n",
       "b83ea08f81ad5abeeaf37df806f1925a        12872\n",
       "0a638df105fc0988462d46dadf607210        12464\n",
       "f3dad5a45da9db2f010f4e72b6a6e483        11080\n",
       "6f74ffb17cbb2b616b1eef06bd4acd0c        11005\n",
       "611823291efb42db3d5e45f0db952434        10929\n",
       "afe89b969f5b43e1f40c61ccfa8987e8        10716\n",
       "790b63d40f852d54dce4b560cf3b0045        10151\n",
       "237db43817f34988f9d543ca518be4ee         9647\n",
       "a0e1d358aa17745ff3d3f4e4909356f3         9362\n",
       "06ed4cceabedbfcf3018ff2534c51c1c         9229"
      ]
     },
     "execution_count": 43,
     "metadata": {},
     "output_type": "execute_result"
    }
   ],
   "source": [
    "d.sort('_donationid', ascending=False).head(20) #Top 20 Donor IDs"
   ]
  },
  {
   "cell_type": "code",
   "execution_count": 11,
   "metadata": {
    "collapsed": false
   },
   "outputs": [
    {
     "data": {
      "text/plain": [
       "Index([u'_donationid', u'_projectid', u'_donor_acctid', u'_cartid',\n",
       "       u'donor_city', u'donor_state', u'donor_zip', u'is_teacher_acct',\n",
       "       u'donation_timestamp', u'donation_to_project',\n",
       "       u'donation_optional_support', u'donation_total', u'dollar_amount',\n",
       "       u'donation_included_optional_support', u'payment_method',\n",
       "       u'payment_included_acct_credit', u'payment_included_campaign_gift_card',\n",
       "       u'payment_included_web_purchased_gift_card',\n",
       "       u'payment_was_promo_matched', u'via_giving_page', u'for_honoree',\n",
       "       u'thank_you_packet_mailed', u'donation_message'],\n",
       "      dtype='object')"
      ]
     },
     "execution_count": 11,
     "metadata": {},
     "output_type": "execute_result"
    }
   ],
   "source": [
    "donations.columns"
   ]
  },
  {
   "cell_type": "code",
   "execution_count": 36,
   "metadata": {
    "collapsed": false
   },
   "outputs": [
    {
     "data": {
      "text/plain": [
       "'f'"
      ]
     },
     "execution_count": 36,
     "metadata": {},
     "output_type": "execute_result"
    }
   ],
   "source": [
    "d.index[0]"
   ]
  },
  {
   "cell_type": "code",
   "execution_count": 37,
   "metadata": {
    "collapsed": false
   },
   "outputs": [],
   "source": [
    "donations.donation_total = donations.donation_total.astype('float')"
   ]
  },
  {
   "cell_type": "code",
   "execution_count": 35,
   "metadata": {
    "collapsed": false
   },
   "outputs": [
    {
     "name": "stdout",
     "output_type": "stream",
     "text": [
      "-15.0 169200.0\n"
     ]
    }
   ],
   "source": [
    "print min(donations.donation_total), max(donations.donation_total)"
   ]
  },
  {
   "cell_type": "code",
   "execution_count": 44,
   "metadata": {
    "collapsed": false
   },
   "outputs": [
    {
     "data": {
      "text/plain": [
       "<matplotlib.text.Text at 0x7fe402c4ac90>"
      ]
     },
     "execution_count": 44,
     "metadata": {},
     "output_type": "execute_result"
    },
    {
     "data": {
      "image/png": "[encoded data removed]",
      "text/plain": [
       "<matplotlib.figure.Figure at 0x7fe402d0e290>"
      ]
     },
     "metadata": {},
     "output_type": "display_data"
    }
   ],
   "source": [
    "donations.donor_state.value_counts().plot(kind = 'bar', figsize = (15,10))\n",
    "plt.title('Number of Donations By State')"
   ]
  },
  {
   "cell_type": "code",
   "execution_count": 45,
   "metadata": {
    "collapsed": false
   },
   "outputs": [
    {
     "data": {
      "text/html": [
       "<div>\n",
       "<table border=\"1\" class=\"dataframe\">\n",
       "  <thead>\n",
       "    <tr style=\"text-align: right;\">\n",
       "      <th></th>\n",
       "      <th>donation_total</th>\n",
       "      <th>payment_was_promo_matched</th>\n",
       "    </tr>\n",
       "  </thead>\n",
       "  <tbody>\n",
       "    <tr>\n",
       "      <th>0</th>\n",
       "      <td>75.00</td>\n",
       "      <td>t</td>\n",
       "    </tr>\n",
       "    <tr>\n",
       "      <th>1</th>\n",
       "      <td>25.00</td>\n",
       "      <td>f</td>\n",
       "    </tr>\n",
       "    <tr>\n",
       "      <th>2</th>\n",
       "      <td>2138.07</td>\n",
       "      <td>f</td>\n",
       "    </tr>\n",
       "    <tr>\n",
       "      <th>3</th>\n",
       "      <td>47.56</td>\n",
       "      <td>f</td>\n",
       "    </tr>\n",
       "    <tr>\n",
       "      <th>4</th>\n",
       "      <td>25.00</td>\n",
       "      <td>f</td>\n",
       "    </tr>\n",
       "  </tbody>\n",
       "</table>\n",
       "</div>"
      ],
      "text/plain": [
       "   donation_total payment_was_promo_matched\n",
       "0           75.00                         t\n",
       "1           25.00                         f\n",
       "2         2138.07                         f\n",
       "3           47.56                         f\n",
       "4           25.00                         f"
      ]
     },
     "execution_count": 45,
     "metadata": {},
     "output_type": "execute_result"
    }
   ],
   "source": [
    "donations[['donation_total','payment_was_promo_matched']].head()"
   ]
  },
  {
   "cell_type": "code",
   "execution_count": 47,
   "metadata": {
    "collapsed": false
   },
   "outputs": [
    {
     "name": "stdout",
     "output_type": "stream",
     "text": [
      "<class 'pandas.core.frame.DataFrame'>\n",
      "Int64Index: 4631338 entries, 0 to 4631337\n",
      "Data columns (total 23 columns):\n",
      "_donationid                                 object\n",
      "_projectid                                  object\n",
      "_donor_acctid                               object\n",
      "_cartid                                     object\n",
      "donor_city                                  object\n",
      "donor_state                                 object\n",
      "donor_zip                                   object\n",
      "is_teacher_acct                             object\n",
      "donation_timestamp                          object\n",
      "donation_to_project                         object\n",
      "donation_optional_support                   object\n",
      "donation_total                              float64\n",
      "dollar_amount                               object\n",
      "donation_included_optional_support          object\n",
      "payment_method                              object\n",
      "payment_included_acct_credit                object\n",
      "payment_included_campaign_gift_card         object\n",
      "payment_included_web_purchased_gift_card    object\n",
      "payment_was_promo_matched                   object\n",
      "via_giving_page                             object\n",
      "for_honoree                                 object\n",
      "thank_you_packet_mailed                     object\n",
      "donation_message                            object\n",
      "dtypes: float64(1), object(22)\n",
      "memory usage: 848.0+ MB\n"
     ]
    }
   ],
   "source": [
    "donations.info()"
   ]
  },
  {
   "cell_type": "code",
   "execution_count": 48,
   "metadata": {
    "collapsed": false
   },
   "outputs": [
    {
     "data": {
      "image/png": "[encoded data removed]",
      "text/plain": [
       "<matplotlib.figure.Figure at 0x7fe402faa190>"
      ]
     },
     "metadata": {},
     "output_type": "display_data"
    }
   ],
   "source": [
    "d = donations[['donation_total','payment_was_promo_matched']].groupby('payment_was_promo_matched')\\\n",
    ".agg({'donation_total':[np.mean]})\n",
    "d.plot(kind='bar')\n",
    "plt.title('Mean Donation Size when Payment Promo was Matched')\n",
    "plt.show()"
   ]
  },
  {
   "cell_type": "code",
   "execution_count": 49,
   "metadata": {
    "collapsed": false
   },
   "outputs": [
    {
     "data": {
      "text/plain": [
       "<matplotlib.axes._subplots.AxesSubplot at 0x7fe3f7ec1790>"
      ]
     },
     "execution_count": 49,
     "metadata": {},
     "output_type": "execute_result"
    },
    {
     "data": {
      "image/png": "[encoded data removed]",
      "text/plain": [
       "<matplotlib.figure.Figure at 0x7fe402a1d0d0>"
      ]
     },
     "metadata": {},
     "output_type": "display_data"
    }
   ],
   "source": [
    "donations.donation_total.hist()\n",
    "#plt.xlim()"
   ]
  },
  {
   "cell_type": "code",
   "execution_count": 50,
   "metadata": {
    "collapsed": false
   },
   "outputs": [],
   "source": [
    "d = donations.donation_total"
   ]
  },
  {
   "cell_type": "code",
   "execution_count": 52,
   "metadata": {
    "collapsed": false
   },
   "outputs": [
    {
     "data": {
      "image/png": "[encoded data removed]",
      "text/plain": [
       "<matplotlib.figure.Figure at 0x7fe402abd4d0>"
      ]
     },
     "metadata": {},
     "output_type": "display_data"
    }
   ],
   "source": [
    "d[(d < 1000) & (d > 0)].hist(bins = 100, figsize = (12,8))\n",
    "plt.xlim(0,1000)\n",
    "plt.title('Donations By Dollar Amount ($0 - $1000)')\n",
    "plt.xlabel('Dollars')\n",
    "plt.ylabel('Counts')\n",
    "plt.show()"
   ]
  },
  {
   "cell_type": "code",
   "execution_count": 63,
   "metadata": {
    "collapsed": false
   },
   "outputs": [
    {
     "data": {
      "image/png": "[encoded data removed]",
      "text/plain": [
       "<matplotlib.figure.Figure at 0x7fe3bdde10d0>"
      ]
     },
     "metadata": {},
     "output_type": "display_data"
    }
   ],
   "source": [
    "donations['dollar_amount'].value_counts().plot(kind='bar')\n",
    "plt.title('Donation Amount Categories')\n",
    "plt.show()"
   ]
  },
  {
   "cell_type": "markdown",
   "metadata": {
    "collapsed": false
   },
   "source": [
    "Additional Questions:\n",
    "\n",
    "Do donors typically donate to schools in their own state?\n",
    "Do donors typically donate to a specific subject category?\n",
    "Generate Pivot tables for each type type and join and then generate an additional model?"
   ]
  },
  {
   "cell_type": "code",
   "execution_count": null,
   "metadata": {
    "collapsed": true
   },
   "outputs": [],
   "source": []
  },
  {
   "cell_type": "code",
   "execution_count": null,
   "metadata": {
    "collapsed": false
   },
   "outputs": [],
   "source": [
    "#TRY TO USE THEIR API TO QUERY MORE INFORMATION ABOUT DONORS\n",
    "txt = 'http://api.donorschoose.org/common/json_feed.html?keywords=%E2%80%9DCanoga+Park%E2%80%9D&APIKey=DONORSCHOOSE'\n",
    "r = requests.get(txt)\n",
    "print r.url\n",
    "print r.content"
   ]
  },
  {
   "cell_type": "code",
   "execution_count": null,
   "metadata": {
    "collapsed": true
   },
   "outputs": [],
   "source": [
    "r = requests.get('http://api.donorschoose.org/common/json-donor.html',params={'APIKey':'DONORSCHOOSE', 'donorid':d.index[0]})"
   ]
  }
 ],
 "metadata": {
  "kernelspec": {
   "display_name": "Python 2",
   "language": "python",
   "name": "python2"
  },
  "language_info": {
   "codemirror_mode": {
    "name": "ipython",
    "version": 2
   },
   "file_extension": ".py",
   "mimetype": "text/x-python",
   "name": "python",
   "nbconvert_exporter": "python",
   "pygments_lexer": "ipython2",
   "version": "2.7.11"
  }
 },
 "nbformat": 4,
 "nbformat_minor": 0
}
