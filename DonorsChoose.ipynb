{
 "cells": [
  {
   "cell_type": "code",
   "execution_count": 1,
   "metadata": {
    "collapsed": false
   },
   "outputs": [],
   "source": [
    "#M4.4XLarge EC2\n",
    "import pandas as pd\n",
    "import numpy as np\n",
    "import re\n",
    "import string\n",
    "import sys\n",
    "import os\n",
    "\n",
    "import matplotlib.pyplot as plt\n",
    "\n",
    "from sklearn.preprocessing import Imputer\n",
    "from sklearn.preprocessing import LabelEncoder\n",
    "from sklearn.feature_extraction.text import CountVectorizer\n",
    "from sklearn.ensemble import RandomForestClassifier\n",
    "\n",
    "from sklearn.cross_validation import cross_val_score\n",
    "from sklearn.cross_validation import train_test_split\n",
    "from sklearn.externals import joblib\n",
    "\n",
    "from collections import Counter\n",
    "\n",
    "%matplotlib inline"
   ]
  },
  {
   "cell_type": "code",
   "execution_count": 2,
   "metadata": {
    "collapsed": false
   },
   "outputs": [],
   "source": [
    "projects = pd.read_csv('./data/opendata_projects.csv') #878852 Entries"
   ]
  },
  {
   "cell_type": "code",
   "execution_count": 3,
   "metadata": {
    "collapsed": false
   },
   "outputs": [
    {
     "name": "stdout",
     "output_type": "stream",
     "text": [
      "Benchmarks::\n"
     ]
    },
    {
     "data": {
      "text/plain": [
       "completed      0.674467\n",
       "expired        0.288339\n",
       "live           0.027944\n",
       "reallocated    0.009250\n",
       "Name: funding_status, dtype: float64"
      ]
     },
     "execution_count": 3,
     "metadata": {},
     "output_type": "execute_result"
    }
   ],
   "source": [
    "print \"Benchmarks::\"\n",
    "projects.funding_status.value_counts()/projects.shape[0]"
   ]
  },
  {
   "cell_type": "code",
   "execution_count": 4,
   "metadata": {
    "collapsed": false
   },
   "outputs": [],
   "source": [
    "projects = projects.loc[(projects.funding_status == 'completed') | (projects.funding_status == 'expired')] #846164"
   ]
  },
  {
   "cell_type": "code",
   "execution_count": 6,
   "metadata": {
    "collapsed": true
   },
   "outputs": [],
   "source": [
    "#Should generate time stamp as real date for visuals\n",
    "\n",
    "projects = projects[project_cols_subset]\n",
    "projects.set_index('_projectid', inplace =True)\n",
    "projects['Year'] = projects.date_posted.map(lambda d: d[:4]).astype('int') #Should be String but converting as Int for now\n",
    "projects['Month'] = projects.date_posted.map(lambda d: d[5:7]).astype('int') #Should be String but converting as Int for now"
   ]
  },
  {
   "cell_type": "code",
   "execution_count": null,
   "metadata": {
    "collapsed": true
   },
   "outputs": [],
   "source": [
    "#Fix Date Times\n",
    "for c in projects.columns:\n",
    "    if 'date' in c:\n",
    "        projects[c] = pd.to_datetime(projects[c], format=\"%Y-%m-%d %H:%M:%S\")"
   ]
  },
  {
   "cell_type": "code",
   "execution_count": 5,
   "metadata": {
    "collapsed": true
   },
   "outputs": [],
   "source": [
    "# project_cols_subset = ['_projectid', '_teacher_acctid', '_schoolid', \n",
    "#                        'school_latitude', 'school_longitude', \n",
    "#                        'school_city', 'school_state', 'school_zip', 'school_metro',\n",
    "#                        'school_charter', 'school_magnet', 'school_year_round',\n",
    "#                        'school_nlns', 'school_kipp', 'school_charter_ready_promise',\n",
    "#                        'teacher_prefix', 'teacher_teach_for_america', 'teacher_ny_teaching_fellow',\n",
    "#                        'primary_focus_subject', 'primary_focus_area',\n",
    "#                        'secondary_focus_subject', 'secondary_focus_area',\n",
    "#                        'resource_type', 'poverty_level', 'grade_level', \n",
    "#                        'total_price_excluding_optional_support', 'total_price_including_optional_support',\n",
    "#                        'students_reached', 'total_donations', 'num_donors',\n",
    "#                        'eligible_double_your_impact_match', 'eligible_almost_home_match', 'funding_status',\n",
    "#                        'date_posted', 'date_completed', 'date_thank_you_packet_mailed'] #36 Columns"
   ]
  },
  {
   "cell_type": "code",
   "execution_count": 7,
   "metadata": {
    "collapsed": true
   },
   "outputs": [],
   "source": [
    "projects.students_reached.fillna(value = projects.students_reached.median(), inplace = True)"
   ]
  },
  {
   "cell_type": "code",
   "execution_count": 8,
   "metadata": {
    "collapsed": true
   },
   "outputs": [],
   "source": [
    "model_cols_subset = ['school_state', 'school_metro',\n",
    "                       'school_charter', 'school_magnet', 'school_year_round',\n",
    "                       'school_nlns', 'school_kipp', 'school_charter_ready_promise',\n",
    "                       'teacher_prefix', 'teacher_teach_for_america', 'teacher_ny_teaching_fellow',\n",
    "                       'primary_focus_subject', 'primary_focus_area',\n",
    "                       'secondary_focus_subject', 'secondary_focus_area',\n",
    "                       'resource_type', 'poverty_level', 'grade_level', \n",
    "                       'total_price_excluding_optional_support', 'total_price_including_optional_support',\n",
    "                       'students_reached','Year', 'Month']\n",
    "model_target = ['funding_status']"
   ]
  },
  {
   "cell_type": "code",
   "execution_count": 9,
   "metadata": {
    "collapsed": false
   },
   "outputs": [
    {
     "name": "stderr",
     "output_type": "stream",
     "text": [
      "/home/ubuntu/anaconda/lib/python2.7/site-packages/IPython/kernel/__main__.py:7: SettingWithCopyWarning: \n",
      "A value is trying to be set on a copy of a slice from a DataFrame.\n",
      "Try using .loc[row_indexer,col_indexer] = value instead\n",
      "\n",
      "See the caveats in the documentation: http://pandas.pydata.org/pandas-docs/stable/indexing.html#indexing-view-versus-copy\n",
      "/home/ubuntu/anaconda/lib/python2.7/site-packages/numpy/lib/arraysetops.py:200: FutureWarning: numpy not_equal will not check object identity in the future. The comparison did not return the same result as suggested by the identity (`is`)) and will change.\n",
      "  flag = np.concatenate(([True], aux[1:] != aux[:-1]))\n"
     ]
    }
   ],
   "source": [
    "model_df = projects[model_cols_subset + model_target] #Early phase model\n",
    "\n",
    "enc = {}\n",
    "for c in model_df.columns:\n",
    "    if model_df[c].dtype == 'object':\n",
    "        enc[c] = LabelEncoder()\n",
    "        model_df[c] = enc[c].fit_transform(model_df[c])"
   ]
  },
  {
   "cell_type": "code",
   "execution_count": 10,
   "metadata": {
    "collapsed": false
   },
   "outputs": [],
   "source": [
    "# X = model_df[model_cols_subset].values\n",
    "# y = model_df[model_target].values.ravel()\n",
    "\n",
    "# indices = np.arange(X.shape[0])\n",
    "# np.random.shuffle(indices)\n",
    "\n",
    "# X = X[indices]\n",
    "# y = y[indices]\n",
    "\n",
    "# X_train, X_test, y_train, y_test = train_test_split(X, y)\n",
    "\n",
    "# rf = RandomForestClassifier(n_estimators=50, oob_score=True)\n",
    "# rf.fit(X_train, y_train)\n",
    "\n",
    "# for f in sorted(zip(model_cols_subset, rf.feature_importances_), key = lambda x: x[1], reverse = True):\n",
    "#     print f\n",
    "\n",
    "#print rf.oob_score_"
   ]
  },
  {
   "cell_type": "code",
   "execution_count": 11,
   "metadata": {
    "collapsed": true
   },
   "outputs": [],
   "source": [
    "#Looking at resources requested for each project\n",
    "\n",
    "f = open('./data/opendata_resources.csv')\n",
    "header = f.readline().split(',')\n",
    "\n",
    "header = [c.strip() for c in header]\n",
    "resources_raw = f.read()\n",
    "f.close()\n",
    "\n",
    "resources_row_text = re.split('\"\\n\"', resources_raw)\n",
    "resouces_for_df = []\n",
    "for row in resources_row_text:\n",
    "    resouces_for_df.append(re.split('\",\"', row))\n",
    "resources = pd.DataFrame(resouces_for_df, columns=header)\n",
    "del resources_raw\n",
    "del resources_row_text\n",
    "del resouces_for_df"
   ]
  },
  {
   "cell_type": "code",
   "execution_count": 12,
   "metadata": {
    "collapsed": true
   },
   "outputs": [],
   "source": [
    "resources.iloc[0,0] = resources.iloc[0,0][1:] #fixes the parsing issue\n",
    "resources.iloc[-1,-1] = 1 #fixes the parsing issue"
   ]
  },
  {
   "cell_type": "code",
   "execution_count": 13,
   "metadata": {
    "collapsed": true
   },
   "outputs": [],
   "source": [
    "resources.set_index('_projectid', inplace = True)\n",
    "\n",
    "resources['vendorid'] = resources.vendorid.map(lambda x: -1 if x == '' else x).astype('int')\n",
    "resources['vendor_name'] = resources.vendor_name.map(lambda x: 'Unknown' if x == '' else x)\n",
    "resources['item_name'] = resources.item_name.map(lambda x: 'Unknown' if x == '' else x)\n",
    "resources['item_number'] = resources.item_number.map(lambda x: -1 if x == '' else x)\n",
    "resources['item_unit_price'] = resources.item_unit_price.map(lambda x: 14.00 if x == '' else x).astype('float') #median = 13.86 \n",
    "resources['item_quantity'] = resources.item_quantity.map(lambda x: 1 if x == '' else x).astype('int') #median = 1\n",
    "\n",
    "resources['price times quantity'] = resources.item_unit_price * resources.item_quantity\n"
   ]
  },
  {
   "cell_type": "code",
   "execution_count": 14,
   "metadata": {
    "collapsed": true
   },
   "outputs": [],
   "source": [
    "#Helper Functions\n",
    "def join_text(list_str):\n",
    "    return ' '.join(list_str)\n",
    "\n",
    "def only_words(s):\n",
    "    s = s.lower().translate(None, string.punctuation + string.digits)\n",
    "    return ''.join([c for c in s if c in string.ascii_lowercase + ' '])"
   ]
  },
  {
   "cell_type": "code",
   "execution_count": 15,
   "metadata": {
    "collapsed": false
   },
   "outputs": [],
   "source": [
    "resources_gb = resources.groupby(resources.index)\n",
    "resources_agg = resources_gb.agg({'item_unit_price': [np.min, np.max], 'item_quantity':[np.sum], 'item_name':[join_text], 'price times quantity':[np.sum] })\n",
    "resources_agg[('item_name','join_text')] = resources_agg[('item_name','join_text')].map(only_words)\n",
    "\n",
    "resources_agg['avg_price'] = resources_agg[('price times quantity', 'sum')]/resources_agg[('item_quantity','sum')]\n",
    "#resources_agg.head()"
   ]
  },
  {
   "cell_type": "code",
   "execution_count": 16,
   "metadata": {
    "collapsed": false
   },
   "outputs": [
    {
     "name": "stdout",
     "output_type": "stream",
     "text": [
      "(878528, 6)\n",
      "(846164, 24)\n"
     ]
    }
   ],
   "source": [
    "print resources_agg.shape\n",
    "print model_df.shape"
   ]
  },
  {
   "cell_type": "code",
   "execution_count": 17,
   "metadata": {
    "collapsed": false
   },
   "outputs": [],
   "source": [
    "model_df = model_df.join(resources_agg, how = 'inner')"
   ]
  },
  {
   "cell_type": "code",
   "execution_count": 18,
   "metadata": {
    "collapsed": false
   },
   "outputs": [],
   "source": [
    "del projects\n",
    "del resources_agg"
   ]
  },
  {
   "cell_type": "code",
   "execution_count": 19,
   "metadata": {
    "collapsed": true
   },
   "outputs": [],
   "source": [
    "X = model_df.drop([('item_name', 'join_text')] + model_target, axis = 1).values\n",
    "y = model_df[model_target].values.ravel()\n"
   ]
  },
  {
   "cell_type": "code",
   "execution_count": 20,
   "metadata": {
    "collapsed": false
   },
   "outputs": [
    {
     "data": {
      "text/plain": [
       "_projectid\n",
       "0000023f507999464aa2b78875b7e5d6    lead  mm  pentel super highpolymer leads mediu...\n",
       "00000ce845c00cbf0686c992fc369df4                         sony mdr zx blk   headphones\n",
       "00005f52c98eeaf92b2414a352b023a4    viewsonic pjd  dlp projector  d avervision u  ...\n",
       "0000702ee4cefdb1e7f89084e50d3c85    xrs dlp proj svga   sharp  xrs multimedia dlp ...\n",
       "00008c61582d7b4d3a2d89ad88f9eedf     famous poems roy j cook art over  works from ...\n",
       "Name: (item_name, join_text), dtype: object"
      ]
     },
     "execution_count": 20,
     "metadata": {},
     "output_type": "execute_result"
    }
   ],
   "source": [
    "model_df[('item_name', 'join_text')].head()\n"
   ]
  },
  {
   "cell_type": "code",
   "execution_count": 21,
   "metadata": {
    "collapsed": false
   },
   "outputs": [],
   "source": [
    "if os.path.exists('./model/resource_count_vect.pkl'):\n",
    "    count_vect = joblib.load('./model/resource_count_vect.pkl')\n",
    "else:\n",
    "    print 'Error No Vectorizer'\n",
    "    #Taken From Resources\n",
    "    #resource_count_vect = CountVectorizer(stop_words='english', max_features=10000, token_pattern=u'(?u)\\\\b\\\\w\\\\w{2,}\\\\b') #3 or more letters\n",
    "    #X = resource_count_vect.fit_transform(data[('item_name', 'join_text')])\n",
    "    #joblib.dump(resource_count_vect, './model/resource_count_vect.pkl') \n",
    "if os.path.exists('./model/resource_nmf_5000.pkl'):\n",
    "    nmf = joblib.load('./model/resource_nmf_5000.pkl')\n",
    "else:\n",
    "    print 'Error No NMF'\n",
    "#     resource_nmf_5000 = NMF(n_components = 50, max_iter= 10, random_state=42) #Should be 10000\n",
    "#     X_nmf = resource_nmf_5000.fit_transform(X)\n",
    "#     joblib.dump(resource_nmf_5000, './model/resource_nmf_5000.pkl') "
   ]
  },
  {
   "cell_type": "code",
   "execution_count": 22,
   "metadata": {
    "collapsed": false
   },
   "outputs": [],
   "source": [
    "X_text = count_vect.transform(model_df[('item_name', 'join_text')])\n",
    "X_text = nmf.transform(X_text)"
   ]
  },
  {
   "cell_type": "code",
   "execution_count": 23,
   "metadata": {
    "collapsed": false
   },
   "outputs": [],
   "source": [
    "X = np.hstack((X, X_text))"
   ]
  },
  {
   "cell_type": "code",
   "execution_count": null,
   "metadata": {
    "collapsed": true
   },
   "outputs": [],
   "source": [
    "indices = np.arange(X.shape[0])\n",
    "\n",
    "np.random.shuffle(indices,)\n",
    "\n",
    "X = X[indices]\n",
    "y = y[indices]\n",
    "\n",
    "X_train, X_test, y_train, y_test = train_test_split(X, y)\n",
    "\n",
    "rf = RandomForestClassifier(n_estimators=25, oob_score=True, n_jobs = -1)\n",
    "rf.fit(X_train, y_train)\n",
    "\n",
    "print rf.score(X_test, y_test)\n",
    "print rf.oob_score_"
   ]
  },
  {
   "cell_type": "code",
   "execution_count": 24,
   "metadata": {
    "collapsed": false
   },
   "outputs": [
    {
     "name": "stdout",
     "output_type": "stream",
     "text": [
      "0.716504303414\n",
      "0.701422966397\n"
     ]
    },
    {
     "name": "stderr",
     "output_type": "stream",
     "text": [
      "/home/ubuntu/anaconda/lib/python2.7/site-packages/sklearn/ensemble/forest.py:403: UserWarning: Some inputs do not have OOB scores. This probably means too few trees were used to compute any reliable oob estimates.\n",
      "  warn(\"Some inputs do not have OOB scores. \"\n"
     ]
    }
   ],
   "source": [
    "for f in sorted(zip(model_df.columns + , rf.feature_importances_), key = lambda x: x[1], reverse = True):\n",
    "    print f"
   ]
  },
  {
   "cell_type": "code",
   "execution_count": 25,
   "metadata": {
    "collapsed": false
   },
   "outputs": [
    {
     "name": "stdout",
     "output_type": "stream",
     "text": [
      "0.716504303414\n",
      "0.701422966397\n"
     ]
    }
   ],
   "source": [
    "print rf.score(X_test, y_test)\n",
    "print rf.oob_score_"
   ]
  },
  {
   "cell_type": "code",
   "execution_count": null,
   "metadata": {
    "collapsed": false
   },
   "outputs": [],
   "source": []
  },
  {
   "cell_type": "code",
   "execution_count": null,
   "metadata": {
    "collapsed": false
   },
   "outputs": [],
   "source": []
  },
  {
   "cell_type": "code",
   "execution_count": null,
   "metadata": {
    "collapsed": true
   },
   "outputs": [],
   "source": []
  }
 ],
 "metadata": {
  "kernelspec": {
   "display_name": "Python 2",
   "language": "python",
   "name": "python2"
  },
  "language_info": {
   "codemirror_mode": {
    "name": "ipython",
    "version": 2
   },
   "file_extension": ".py",
   "mimetype": "text/x-python",
   "name": "python",
   "nbconvert_exporter": "python",
   "pygments_lexer": "ipython2",
   "version": "2.7.11"
  }
 },
 "nbformat": 4,
 "nbformat_minor": 0
}
