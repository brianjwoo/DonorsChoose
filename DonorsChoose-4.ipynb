{
 "cells": [
  {
   "cell_type": "code",
   "execution_count": 1,
   "metadata": {
    "collapsed": false
   },
   "outputs": [],
   "source": [
    "#M4.4XLarge EC2\n",
    "import pandas as pd\n",
    "import numpy as np\n",
    "import re\n",
    "import string\n",
    "import sys\n",
    "import os\n",
    "import datetime\n",
    "\n",
    "import matplotlib.pyplot as plt\n",
    "\n",
    "from sklearn.preprocessing import Imputer\n",
    "from sklearn.preprocessing import LabelEncoder\n",
    "from sklearn.feature_extraction.text import CountVectorizer\n",
    "from sklearn.ensemble import RandomForestClassifier\n",
    "from sklearn.linear_model import LogisticRegression\n",
    "from sklearn.grid_search import GridSearchCV, RandomizedSearchCV\n",
    "\n",
    "from sklearn.metrics import roc_auc_score\n",
    "from sklearn.metrics import roc_curve\n",
    "\n",
    "from sklearn.cross_validation import cross_val_score\n",
    "from sklearn.cross_validation import train_test_split\n",
    "from sklearn.externals import joblib\n",
    "\n",
    "from collections import Counter\n",
    "\n",
    "from xgboost import XGBClassifier\n",
    "\n",
    "%matplotlib inline"
   ]
  },
  {
   "cell_type": "code",
   "execution_count": 2,
   "metadata": {
    "collapsed": false
   },
   "outputs": [],
   "source": [
    "projects = pd.read_csv('./data/opendata_projects.csv') #878852 Entries\n",
    "projects = projects.loc[(projects.funding_status == 'completed') | (projects.funding_status == 'expired')] #846164"
   ]
  },
  {
   "cell_type": "code",
   "execution_count": 3,
   "metadata": {
    "collapsed": false
   },
   "outputs": [
    {
     "name": "stdout",
     "output_type": "stream",
     "text": [
      "Benchmarks::\n"
     ]
    },
    {
     "data": {
      "text/plain": [
       "completed    0.700523\n",
       "expired      0.299477\n",
       "Name: funding_status, dtype: float64"
      ]
     },
     "execution_count": 3,
     "metadata": {},
     "output_type": "execute_result"
    }
   ],
   "source": [
    "print \"Benchmarks::\"\n",
    "projects.funding_status.value_counts()/projects.shape[0]"
   ]
  },
  {
   "cell_type": "code",
   "execution_count": 4,
   "metadata": {
    "collapsed": false
   },
   "outputs": [],
   "source": [
    "#Should generate time stamp as real date for visuals\n",
    "\n",
    "#projects.set_index('_projectid', inplace =True)\n",
    "projects['Year'] = projects.date_posted.map(lambda d: d[:4]).astype('int') #Should be Categorical but converting as Int for now\n",
    "projects['Month'] = projects.date_posted.map(lambda d: d[5:7]).astype('int') #Should be Categorical but converting as Int for now"
   ]
  },
  {
   "cell_type": "code",
   "execution_count": 5,
   "metadata": {
    "collapsed": true
   },
   "outputs": [],
   "source": [
    "projects = projects[projects.Year > 2006] #Subset based on plot"
   ]
  },
  {
   "cell_type": "code",
   "execution_count": 6,
   "metadata": {
    "collapsed": true
   },
   "outputs": [],
   "source": [
    "#Fix Date Times Vars\n",
    "for c in projects.columns:\n",
    "    if 'date' in c:\n",
    "        projects[c] = pd.to_datetime(projects[c], format=\"%Y-%m-%d %H:%M:%S\")"
   ]
  },
  {
   "cell_type": "code",
   "execution_count": 7,
   "metadata": {
    "collapsed": true
   },
   "outputs": [],
   "source": [
    "# project_cols_subset = ['_projectid', '_teacher_acctid', '_schoolid', \n",
    "#                        'school_latitude', 'school_longitude', \n",
    "#                        'school_city', 'school_state', 'school_zip', 'school_metro',\n",
    "#                        'school_charter', 'school_magnet', 'school_year_round',\n",
    "#                        'school_nlns', 'school_kipp', 'school_charter_ready_promise',\n",
    "#                        'teacher_prefix', 'teacher_teach_for_america', 'teacher_ny_teaching_fellow',\n",
    "#                        'primary_focus_subject', 'primary_focus_area',\n",
    "#                        'secondary_focus_subject', 'secondary_focus_area',\n",
    "#                        'resource_type', 'poverty_level', 'grade_level', \n",
    "#                        'total_price_excluding_optional_support', 'total_price_including_optional_support',\n",
    "#                        'students_reached', 'total_donations', 'num_donors',\n",
    "#                        'eligible_double_your_impact_match', 'eligible_almost_home_match', 'funding_status',\n",
    "#                        'date_posted', 'date_completed', 'date_thank_you_packet_mailed'] #36 Columns"
   ]
  },
  {
   "cell_type": "code",
   "execution_count": 8,
   "metadata": {
    "collapsed": true
   },
   "outputs": [],
   "source": [
    "projects.students_reached.fillna(value = projects.students_reached.median(), inplace = True)"
   ]
  },
  {
   "cell_type": "code",
   "execution_count": 9,
   "metadata": {
    "collapsed": false
   },
   "outputs": [],
   "source": [
    "#Feature Engineering 1\n",
    "project_posted_1 = min(projects.date_posted)\n",
    "def time_since_first_post(post_date):\n",
    "    return (post_date - project_posted_1).days"
   ]
  },
  {
   "cell_type": "code",
   "execution_count": 10,
   "metadata": {
    "collapsed": false
   },
   "outputs": [],
   "source": [
    "projects['Day'] = projects.date_posted.map(time_since_first_post) #Feature that represents how long since first data point"
   ]
  },
  {
   "cell_type": "code",
   "execution_count": 11,
   "metadata": {
    "collapsed": false
   },
   "outputs": [],
   "source": [
    "#Not useful\n",
    "spring = range(80, 172)\n",
    "summer = range(172, 264)\n",
    "fall = range(264, 355)\n",
    "\n",
    "def dt_to_season(dt):\n",
    "    if dt.dayofyear in spring:\n",
    "        return 'spring'\n",
    "    elif dt.dayofyear in summer:\n",
    "        return 'summer'\n",
    "    elif dt.dayofyear in fall:\n",
    "        return 'fall'\n",
    "    else:\n",
    "        return 'winter'"
   ]
  },
  {
   "cell_type": "code",
   "execution_count": 12,
   "metadata": {
    "collapsed": false
   },
   "outputs": [],
   "source": [
    "projects['season_posted'] = projects.date_posted.map(dt_to_season)"
   ]
  },
  {
   "cell_type": "code",
   "execution_count": 13,
   "metadata": {
    "collapsed": false
   },
   "outputs": [],
   "source": [
    "external_zips_xtract = pd.read_csv('./data/census/clean_xtract.csv') #(32653, 27) 2 Obj Columns, Need to fix AltZips"
   ]
  },
  {
   "cell_type": "code",
   "execution_count": 14,
   "metadata": {
    "collapsed": false
   },
   "outputs": [],
   "source": [
    "extra_zips = external_zips_xtract.loc[pd.notnull(external_zips_xtract.AltZIPs)]\n",
    "extra_zips_to_append = pd.DataFrame(columns=external_zips_xtract.columns)\n",
    "\n",
    "for ind, r in extra_zips.iterrows():\n",
    "    extra_zip_codes = r.AltZIPs.split()\n",
    "    for z in extra_zip_codes:\n",
    "        tmp =  r.copy()\n",
    "        tmp.zcta5 = z\n",
    "        extra_zips_to_append = extra_zips_to_append.append(tmp)\n",
    "        \n",
    "external_zips_xtract = external_zips_xtract.append(extra_zips_to_append) #This did not help, extra zips not in data"
   ]
  },
  {
   "cell_type": "code",
   "execution_count": 15,
   "metadata": {
    "collapsed": false
   },
   "outputs": [],
   "source": [
    "external_zips_xtract.drop('AltZIPs', axis = 1, inplace = True)\n",
    "external_zips_xtract.CBSAType.fillna('Unknown', inplace = True)"
   ]
  },
  {
   "cell_type": "code",
   "execution_count": null,
   "metadata": {
    "collapsed": false
   },
   "outputs": [],
   "source": []
  },
  {
   "cell_type": "code",
   "execution_count": 16,
   "metadata": {
    "collapsed": false
   },
   "outputs": [],
   "source": [
    "#Lazy method of filling in NaNs should use State information to fill in Nulls\n",
    "for c in external_zips_xtract.columns:\n",
    "    if external_zips_xtract[c].dtypes != 'object':\n",
    "        median = np.median(external_zips_xtract[c][~np.isnan(external_zips_xtract[c])])\n",
    "        external_zips_xtract[c].fillna(median, inplace = True)"
   ]
  },
  {
   "cell_type": "code",
   "execution_count": 17,
   "metadata": {
    "collapsed": false
   },
   "outputs": [],
   "source": [
    "projects = pd.merge(projects, external_zips_xtract, how='left', left_on='school_zip', right_on='zcta5')\n",
    "projects.set_index('_projectid', inplace = True)"
   ]
  },
  {
   "cell_type": "code",
   "execution_count": null,
   "metadata": {
    "collapsed": false
   },
   "outputs": [],
   "source": []
  },
  {
   "cell_type": "code",
   "execution_count": 18,
   "metadata": {
    "collapsed": false
   },
   "outputs": [],
   "source": [
    "irrelvant_cols = []\n",
    "for c in projects.columns:\n",
    "    if projects[c].dtypes == 'object':\n",
    "        if projects[c].nunique() > 52:\n",
    "            irrelvant_cols.append(c)\n",
    "irrelvant_cols += ['school_zip', 'school_latitude', 'school_longitude']            "
   ]
  },
  {
   "cell_type": "code",
   "execution_count": 19,
   "metadata": {
    "collapsed": false
   },
   "outputs": [],
   "source": [
    "for c in projects.columns:\n",
    "    if projects[c].dtypes == '<M8[ns]':\n",
    "        irrelvant_cols.append(c)"
   ]
  },
  {
   "cell_type": "code",
   "execution_count": 20,
   "metadata": {
    "collapsed": false
   },
   "outputs": [],
   "source": [
    "data_leakage = ['total_donations', 'num_donors']\n",
    "irrelvant_cols += data_leakage"
   ]
  },
  {
   "cell_type": "code",
   "execution_count": 21,
   "metadata": {
    "collapsed": true
   },
   "outputs": [],
   "source": [
    "model_target = ['funding_status']"
   ]
  },
  {
   "cell_type": "code",
   "execution_count": 22,
   "metadata": {
    "collapsed": false
   },
   "outputs": [
    {
     "name": "stderr",
     "output_type": "stream",
     "text": [
      "/home/ubuntu/anaconda/lib/python2.7/site-packages/numpy/lib/arraysetops.py:200: FutureWarning: numpy not_equal will not check object identity in the future. The comparison did not return the same result as suggested by the identity (`is`)) and will change.\n",
      "  flag = np.concatenate(([True], aux[1:] != aux[:-1]))\n"
     ]
    }
   ],
   "source": [
    "model_df = projects.drop(irrelvant_cols, axis = 1) #Early phase model\n",
    "\n",
    "enc = {}\n",
    "for c in model_df.columns:\n",
    "    if model_df[c].dtype == 'object':\n",
    "        enc[c] = LabelEncoder()\n",
    "        model_df[c] = enc[c].fit_transform(model_df[c])"
   ]
  },
  {
   "cell_type": "code",
   "execution_count": 23,
   "metadata": {
    "collapsed": false
   },
   "outputs": [],
   "source": [
    "#Lazy way of imputing columns using median\n",
    "for c in model_df.columns:\n",
    "    median = np.median(model_df[c][~np.isnan(model_df[c])])\n",
    "    model_df[c].fillna(median, inplace = True)"
   ]
  },
  {
   "cell_type": "code",
   "execution_count": 24,
   "metadata": {
    "collapsed": false
   },
   "outputs": [
    {
     "data": {
      "text/plain": [
       "RandomForestClassifier(bootstrap=True, class_weight=None, criterion='gini',\n",
       "            max_depth=None, max_features='auto', max_leaf_nodes=None,\n",
       "            min_samples_leaf=1, min_samples_split=2,\n",
       "            min_weight_fraction_leaf=0.0, n_estimators=50, n_jobs=-1,\n",
       "            oob_score=True, random_state=None, verbose=0, warm_start=False)"
      ]
     },
     "execution_count": 24,
     "metadata": {},
     "output_type": "execute_result"
    }
   ],
   "source": [
    "X = model_df.drop(model_target, axis = 1).values\n",
    "y = model_df[model_target].values.ravel()\n",
    "\n",
    "indices = np.arange(X.shape[0])\n",
    "np.random.shuffle(indices)\n",
    "\n",
    "X = X[indices]\n",
    "y = y[indices]\n",
    "\n",
    "X_train, X_test, y_train, y_test = train_test_split(X, y)\n",
    "\n",
    "rf = RandomForestClassifier(n_estimators=50, oob_score=True, n_jobs = -1)\n",
    "rf.fit(X_train, y_train)"
   ]
  },
  {
   "cell_type": "code",
   "execution_count": 25,
   "metadata": {
    "collapsed": true
   },
   "outputs": [],
   "source": [
    "cols = model_df.drop(model_target, axis = 1).columns #59"
   ]
  },
  {
   "cell_type": "code",
   "execution_count": 26,
   "metadata": {
    "collapsed": false
   },
   "outputs": [
    {
     "name": "stdout",
     "output_type": "stream",
     "text": [
      "('total_price_including_optional_support', 0.06138263863693097)\n",
      "('payment_processing_charges', 0.061224155505369991)\n",
      "('Day', 0.054685640981907105)\n",
      "('total_price_excluding_optional_support', 0.053592277186754404)\n",
      "('students_reached', 0.034753288134929436)\n",
      "('Month', 0.027368799740206198)\n",
      "('vendor_shipping_charges', 0.02632566532749929)\n",
      "('LandSQMI', 0.023212705670409232)\n",
      "('sales_tax', 0.023201077608546859)\n",
      "('primary_focus_subject', 0.023128062037001493)\n",
      "('secondary_focus_subject', 0.022809913863759773)\n",
      "('pctRenterOcc', 0.022356579787299179)\n",
      "('school_ncesid', 0.022071623940092079)\n",
      "('MedianHValue', 0.021035530413968266)\n",
      "('pctWhite1', 0.019691564646217609)\n",
      "('pctForeignBorn', 0.01900027848402961)\n",
      "('MedianGrossRent', 0.018945814862851903)\n",
      "('pctInCollege', 0.018654392459228897)\n",
      "('pctBachelorsormore', 0.018553084873771469)\n",
      "('pctHispanicPop', 0.018391477328185132)\n"
     ]
    }
   ],
   "source": [
    " for f in sorted(zip(cols, rf.feature_importances_), key = lambda x: x[1], reverse = True)[:20]:\n",
    "     print f"
   ]
  },
  {
   "cell_type": "code",
   "execution_count": 27,
   "metadata": {
    "collapsed": false
   },
   "outputs": [
    {
     "name": "stdout",
     "output_type": "stream",
     "text": [
      "0.757465781833\n",
      "0.746622622504\n"
     ]
    }
   ],
   "source": [
    "#PRELIMINARY RESULTS\n",
    "print rf.score(X_test, y_test)\n",
    "print rf.oob_score_"
   ]
  },
  {
   "cell_type": "code",
   "execution_count": 28,
   "metadata": {
    "collapsed": true
   },
   "outputs": [],
   "source": [
    "#Looking at resources requested for each project\n",
    "f = open('./data/opendata_resources.csv')\n",
    "header = f.readline().split(',')\n",
    "\n",
    "header = [c.strip() for c in header]\n",
    "resources_raw = f.read()\n",
    "f.close()\n",
    "\n",
    "resources_row_text = re.split('\"\\n\"', resources_raw)\n",
    "resouces_for_df = []\n",
    "for row in resources_row_text:\n",
    "    resouces_for_df.append(re.split('\",\"', row))\n",
    "resources = pd.DataFrame(resouces_for_df, columns=header)\n",
    "del resources_raw\n",
    "del resources_row_text\n",
    "del resouces_for_df"
   ]
  },
  {
   "cell_type": "code",
   "execution_count": 29,
   "metadata": {
    "collapsed": true
   },
   "outputs": [],
   "source": [
    "resources.iloc[0,0] = resources.iloc[0,0][1:] #fixes the parsing issue\n",
    "resources.iloc[-1,-1] = 1 #fixes the parsing issue"
   ]
  },
  {
   "cell_type": "code",
   "execution_count": 30,
   "metadata": {
    "collapsed": true
   },
   "outputs": [],
   "source": [
    "resources.set_index('_projectid', inplace = True)\n",
    "\n",
    "resources['vendorid'] = resources.vendorid.map(lambda x: -1 if x == '' else x).astype('int')\n",
    "resources['vendor_name'] = resources.vendor_name.map(lambda x: 'Unknown' if x == '' else x)\n",
    "resources['item_name'] = resources.item_name.map(lambda x: 'Unknown' if x == '' else x)\n",
    "resources['item_number'] = resources.item_number.map(lambda x: -1 if x == '' else x)\n",
    "resources['item_unit_price'] = resources.item_unit_price.map(lambda x: 14.00 if x == '' else x).astype('float') #median = 13.86 \n",
    "resources['item_quantity'] = resources.item_quantity.map(lambda x: 1 if x == '' else x).astype('int') #median = 1\n",
    "\n",
    "resources['price times quantity'] = resources.item_unit_price * resources.item_quantity"
   ]
  },
  {
   "cell_type": "code",
   "execution_count": 31,
   "metadata": {
    "collapsed": true
   },
   "outputs": [],
   "source": [
    "#Helper Functions\n",
    "def join_text(list_str):\n",
    "    return ' '.join(list_str)\n",
    "\n",
    "def only_words(s):\n",
    "    s = s.lower().translate(None, string.punctuation + string.digits)\n",
    "    return ''.join([c for c in s if c in string.ascii_lowercase + ' '])"
   ]
  },
  {
   "cell_type": "code",
   "execution_count": 32,
   "metadata": {
    "collapsed": false
   },
   "outputs": [],
   "source": [
    "resources_gb = resources.groupby(resources.index)\n",
    "resources_agg = resources_gb.agg({'item_unit_price': [np.min, np.max], 'item_quantity':[np.sum], 'item_name':[join_text], 'price times quantity':[np.sum] })\n",
    "resources_agg[('item_name','join_text')] = resources_agg[('item_name','join_text')].map(only_words)\n",
    "\n",
    "resources_agg['avg_price'] = resources_agg[('price times quantity', 'sum')]/resources_agg[('item_quantity','sum')]\n",
    "#resources_agg.head()"
   ]
  },
  {
   "cell_type": "code",
   "execution_count": 33,
   "metadata": {
    "collapsed": false
   },
   "outputs": [
    {
     "name": "stdout",
     "output_type": "stream",
     "text": [
      "(878528, 6)\n",
      "(810096, 58)\n"
     ]
    }
   ],
   "source": [
    "print resources_agg.shape\n",
    "print model_df.shape"
   ]
  },
  {
   "cell_type": "code",
   "execution_count": 34,
   "metadata": {
    "collapsed": false
   },
   "outputs": [],
   "source": [
    "model_df = model_df.join(resources_agg, how = 'inner')"
   ]
  },
  {
   "cell_type": "code",
   "execution_count": 35,
   "metadata": {
    "collapsed": false
   },
   "outputs": [],
   "source": [
    "del projects\n",
    "del resources_agg"
   ]
  },
  {
   "cell_type": "code",
   "execution_count": 36,
   "metadata": {
    "collapsed": true
   },
   "outputs": [],
   "source": [
    "X = model_df.drop([('item_name', 'join_text')] + model_target, axis = 1).values\n",
    "y = model_df[model_target].values.ravel()"
   ]
  },
  {
   "cell_type": "code",
   "execution_count": 37,
   "metadata": {
    "collapsed": false
   },
   "outputs": [],
   "source": [
    "#model_df[('item_name', 'join_text')].head()"
   ]
  },
  {
   "cell_type": "code",
   "execution_count": 38,
   "metadata": {
    "collapsed": false
   },
   "outputs": [],
   "source": [
    "if os.path.exists('./model/resource_count_vect.pkl'):\n",
    "    count_vect = joblib.load('./model/resource_count_vect.pkl')\n",
    "else:\n",
    "    print 'Error No Vectorizer'\n",
    "    #Taken From Resources\n",
    "    #resource_count_vect = CountVectorizer(stop_words='english', max_features=10000, token_pattern=u'(?u)\\\\b\\\\w\\\\w{2,}\\\\b') #3 or more letters\n",
    "    #X = resource_count_vect.fit_transform(data[('item_name', 'join_text')])\n",
    "    #joblib.dump(resource_count_vect, './model/resource_count_vect.pkl') \n",
    "if os.path.exists('./model/resource_nmf_5000.pkl'):\n",
    "    nmf = joblib.load('./model/resource_nmf_5000.pkl')\n",
    "else:\n",
    "    print 'Error No NMF'\n",
    "#     resource_nmf_5000 = NMF(n_components = 50, max_iter= 10, random_state=42) #Should be 10000\n",
    "#     X_nmf = resource_nmf_5000.fit_transform(X)\n",
    "#     joblib.dump(resource_nmf_5000, './model/resource_nmf_5000.pkl') "
   ]
  },
  {
   "cell_type": "code",
   "execution_count": 39,
   "metadata": {
    "collapsed": false
   },
   "outputs": [],
   "source": [
    "X_text = count_vect.transform(model_df[('item_name', 'join_text')])\n",
    "X_text = nmf.transform(X_text)"
   ]
  },
  {
   "cell_type": "code",
   "execution_count": 40,
   "metadata": {
    "collapsed": false
   },
   "outputs": [],
   "source": [
    "n_text_cols = 20 #Only 20 of the 50 are taken since the previous time I had run the RF only the first few were useful\n",
    "\n",
    "X = np.hstack((X, X_text[:,:n_text_cols]))"
   ]
  },
  {
   "cell_type": "code",
   "execution_count": 41,
   "metadata": {
    "collapsed": true
   },
   "outputs": [],
   "source": [
    "indices = np.arange(X.shape[0])\n",
    "\n",
    "np.random.shuffle(indices,)\n",
    "\n",
    "X = X[indices]\n",
    "y = y[indices]\n",
    "\n",
    "X_train, X_test, y_train, y_test = train_test_split(X, y)"
   ]
  },
  {
   "cell_type": "code",
   "execution_count": 42,
   "metadata": {
    "collapsed": false
   },
   "outputs": [
    {
     "data": {
      "text/plain": [
       "0.7018200491798422"
      ]
     },
     "execution_count": 42,
     "metadata": {},
     "output_type": "execute_result"
    }
   ],
   "source": [
    "#Generate Logistic Regression Model\n",
    "log = LogisticRegression()\n",
    "log.fit(X_train, y_train)\n",
    "log.score(X_test, y_test)"
   ]
  },
  {
   "cell_type": "code",
   "execution_count": 43,
   "metadata": {
    "collapsed": false
   },
   "outputs": [
    {
     "name": "stdout",
     "output_type": "stream",
     "text": [
      "0.751414661123\n",
      "0.746222620168\n"
     ]
    }
   ],
   "source": [
    "rf2 = RandomForestClassifier(n_estimators=100, oob_score=True, n_jobs = -1, random_state = 1)\n",
    "rf2.fit(X_train, y_train)\n",
    "\n",
    "print rf2.score(X_test, y_test)\n",
    "print rf2.oob_score_"
   ]
  },
  {
   "cell_type": "code",
   "execution_count": 44,
   "metadata": {
    "collapsed": false,
    "scrolled": true
   },
   "outputs": [
    {
     "name": "stdout",
     "output_type": "stream",
     "text": [
      "('total_price_including_optional_support', 0.037963156162787753)\n",
      "('payment_processing_charges', 0.036869022368807451)\n",
      "('Day', 0.036416249098376985)\n",
      "('total_price_excluding_optional_support', 0.035065267724924166)\n",
      "('3', 0.031012123466652931)\n",
      "('2', 0.026373057082262733)\n",
      "('4', 0.026184028632225072)\n",
      "('1', 0.023703015561040583)\n",
      "('students_reached', 0.021461041985162192)\n",
      "('LandSQMI', 0.020774675897861465)\n",
      "('pctRenterOcc', 0.019650395461041414)\n",
      "('Month', 0.019007768872827183)\n",
      "('MedianHValue', 0.018402015805090207)\n",
      "('school_ncesid', 0.017759009622624736)\n",
      "('pctWhite1', 0.017120067859204599)\n",
      "('vendor_shipping_charges', 0.016352265412307158)\n",
      "('MedianGrossRent', 0.016332371181713864)\n",
      "('pctInCollege', 0.016278780994832081)\n",
      "('pctForeignBorn', 0.016237824582414413)\n",
      "('pctBachelorsormore', 0.016015436088361566)\n"
     ]
    }
   ],
   "source": [
    "for f in sorted(zip(list(cols) + (map(str, range(n_text_cols))), rf2.feature_importances_), key = lambda x: x[1], reverse = True)[:20]:\n",
    "    print f"
   ]
  },
  {
   "cell_type": "code",
   "execution_count": 45,
   "metadata": {
    "collapsed": true
   },
   "outputs": [],
   "source": [
    "#Possibly adding many non-useful columns making model worse"
   ]
  },
  {
   "cell_type": "code",
   "execution_count": 46,
   "metadata": {
    "collapsed": false
   },
   "outputs": [
    {
     "data": {
      "text/plain": [
       "0.777189638656541"
      ]
     },
     "execution_count": 46,
     "metadata": {},
     "output_type": "execute_result"
    }
   ],
   "source": [
    "#Should not run this since I have a GridSearch Model pickled\n",
    "xgb = XGBClassifier(max_depth = 15, subsample=.8, colsample_bytree=.6, n_estimators = 400)\n",
    "xgb.fit(X_train, y_train)\n",
    "xgb.score(X_test, y_test)"
   ]
  },
  {
   "cell_type": "code",
   "execution_count": 47,
   "metadata": {
    "collapsed": false
   },
   "outputs": [],
   "source": [
    "# grid_params = {'max_depth': [5,10,15], 'subsample': [.6,.8], 'colsample_bytree':[.6,.8], 'n_estimators':[250,500]}\n",
    "\n",
    "# xgb_rcv = RandomizedSearchCV(XGBClassifier(), param_distributions=grid_params, random_state=1, cv = 4)\n",
    "\n",
    "# xgb_rcv.fit(X_train, y_train)\n",
    "# joblib.dump(xgb_rcv, './model/xgb_rcv.pkl')"
   ]
  },
  {
   "cell_type": "code",
   "execution_count": 48,
   "metadata": {
    "collapsed": false
   },
   "outputs": [],
   "source": [
    "# xgb_rcv.score(X_test,y_test)"
   ]
  },
  {
   "cell_type": "code",
   "execution_count": 63,
   "metadata": {
    "collapsed": false
   },
   "outputs": [],
   "source": [
    "if os.path.exists('./model/xgb_rcv2.pkl'):\n",
    "    xgb_rcv2 = joblib.load('./model/xgb_rcv2.pkl')\n",
    "else:\n",
    "    print 'Need to Train Model!!'\n",
    "\n",
    "#     grid_params2 = {'max_depth': [12,18], 'subsample': [.8], 'colsample_bytree':[.6], 'n_estimators':[300,600]}\n",
    "#     xgb_rcv2 = GridSearchCV(XGBClassifier(), param_grid=grid_params2, cv = 4)\n",
    "#     xgb_rcv2.fit(X_train, y_train)\n",
    "#     joblib.dump(xgb_rcv2, './model/xgb_rcv2.pkl')"
   ]
  },
  {
   "cell_type": "code",
   "execution_count": 74,
   "metadata": {
    "collapsed": false
   },
   "outputs": [
    {
     "name": "stdout",
     "output_type": "stream",
     "text": [
      "0.999837054203\n",
      "0.746222620168\n",
      "0.751414661123\n"
     ]
    }
   ],
   "source": [
    "print rf2.score(X_train, y_train)\n",
    "print rf2.oob_score_\n",
    "print rf2.score(X_test, y_test)\n"
   ]
  },
  {
   "cell_type": "code",
   "execution_count": 66,
   "metadata": {
    "collapsed": false
   },
   "outputs": [
    {
     "data": {
      "text/plain": [
       "[mean: 0.77446, std: 0.00073, params: {'n_estimators': 600, 'subsample': 0.8, 'colsample_bytree': 0.6, 'max_depth': 18},\n",
       " mean: 0.77309, std: 0.00094, params: {'n_estimators': 600, 'subsample': 0.8, 'colsample_bytree': 0.6, 'max_depth': 12},\n",
       " mean: 0.77299, std: 0.00095, params: {'n_estimators': 300, 'subsample': 0.8, 'colsample_bytree': 0.6, 'max_depth': 18},\n",
       " mean: 0.77215, std: 0.00039, params: {'n_estimators': 300, 'subsample': 0.8, 'colsample_bytree': 0.6, 'max_depth': 12}]"
      ]
     },
     "execution_count": 66,
     "metadata": {},
     "output_type": "execute_result"
    }
   ],
   "source": [
    "sorted(xgb_rcv2.grid_scores_, key = lambda x: x[1], reverse = True)"
   ]
  },
  {
   "cell_type": "code",
   "execution_count": 75,
   "metadata": {
    "collapsed": false
   },
   "outputs": [
    {
     "name": "stdout",
     "output_type": "stream",
     "text": [
      "0.944764666768\n",
      "0.94387276444\n"
     ]
    }
   ],
   "source": [
    "print xgb_rcv2.score(X_train, y_train)\n",
    "print xgb_rcv2.score(X_test, y_test)"
   ]
  },
  {
   "cell_type": "code",
   "execution_count": 52,
   "metadata": {
    "collapsed": true
   },
   "outputs": [],
   "source": [
    "#GENERATE ROC CURVE"
   ]
  },
  {
   "cell_type": "code",
   "execution_count": 54,
   "metadata": {
    "collapsed": false
   },
   "outputs": [],
   "source": [
    "#y_proba = rf.predict_proba(X_test)\n",
    "#roc_auc_score(y_test, y_proba[:,1])"
   ]
  },
  {
   "cell_type": "code",
   "execution_count": 76,
   "metadata": {
    "collapsed": false
   },
   "outputs": [
    {
     "data": {
      "text/plain": [
       "0.77105818137368842"
      ]
     },
     "execution_count": 76,
     "metadata": {},
     "output_type": "execute_result"
    }
   ],
   "source": [
    "y_proba = rf2.predict_proba(X_test)\n",
    "roc_auc_score(y_test, y_proba[:,1])"
   ]
  },
  {
   "cell_type": "code",
   "execution_count": 77,
   "metadata": {
    "collapsed": true
   },
   "outputs": [],
   "source": [
    "fpr_rf2, tpr_rf2, thresholds_rf2 = roc_curve(y_test, y_proba[:,1])"
   ]
  },
  {
   "cell_type": "code",
   "execution_count": 78,
   "metadata": {
    "collapsed": false
   },
   "outputs": [
    {
     "data": {
      "text/plain": [
       "0.97919125811219909"
      ]
     },
     "execution_count": 78,
     "metadata": {},
     "output_type": "execute_result"
    }
   ],
   "source": [
    "y_proba = xgb_rcv2.predict_proba(X_test)\n",
    "roc_auc_score(y_test, y_proba[:,1])"
   ]
  },
  {
   "cell_type": "code",
   "execution_count": 79,
   "metadata": {
    "collapsed": false
   },
   "outputs": [],
   "source": [
    "fpr_xgb, tpr_xgb, thresholds_xgb = roc_curve(y_test, y_proba[:,1])"
   ]
  },
  {
   "cell_type": "code",
   "execution_count": 80,
   "metadata": {
    "collapsed": false
   },
   "outputs": [
    {
     "data": {
      "image/png": "[encoded data removed]",
      "text/plain": [
       "<matplotlib.figure.Figure at 0x7f6616750710>"
      ]
     },
     "metadata": {},
     "output_type": "display_data"
    }
   ],
   "source": [
    "plt.plot(fpr_rf2, tpr_rf2, label='rf2', c = 'g')\n",
    "plt.plot(fpr_xgb, tpr_xgb, label='xgb', c = 'r')\n",
    "#plt.plot()\n",
    "plt.xlabel('False Positive Rate')\n",
    "plt.ylabel('True Positive Rate')\n",
    "plt.title('ROC Curve')\n",
    "plt.show()"
   ]
  },
  {
   "cell_type": "code",
   "execution_count": 81,
   "metadata": {
    "collapsed": false
   },
   "outputs": [
    {
     "name": "stdout",
     "output_type": "stream",
     "text": [
      "\n",
      "\n",
      "Group: 0\n",
      "\n",
      "illustrator nancy john robert david jane james michael translator brian kevin peter tomie mary chris editor jack robin barbara steven pat harrison ann susan smith martin henkes van paul laura \n",
      "\n",
      "Group: 1\n",
      "\n",
      "level extra nonfiction library book set kgr fiction readers guided reading sightword lexile reader combo rigby right beginning recovery libra platinum fictionnonfiction parent word libraries just plus levels blue sightwords \n",
      "\n",
      "Group: 2\n",
      "\n",
      "set complete library boxed classroom readalongs favorite collection rex paperback leveled write student wipe play giant ball box board piece classic lego jumbo puzzle magnetic class pieces fictionnonfiction games extra \n",
      "\n",
      "Group: 3\n",
      "\n",
      "paper construction amp sulphite superbright green blue holiday red brown dark light pink white orange yellow sheets taye tabu violet targ tabk tavt tapn sky tahg black tawt riverside tard \n",
      "\n",
      "Group: 4\n",
      "\n",
      "series stine goosebumps john vol high jeff nancy rick bluford diary clues riordan street secrets anne smith time classic boxed horrorland matt kinney publishing darren shan krulik kimani tru mysteries \n",
      "\n",
      "Group: 5\n",
      "\n",
      "ipad apple mini case wifi tablet retina ios display cover generation air stand smart mdlla space griffin screen white protective gray ipod survivor proof new feature technology silver blue protection \n",
      "\n",
      "Group: 6\n",
      "\n",
      "edition spanish los del language english bilingual las una mundo scholastic que vida casa para diario fue arbol quien moody cuentos binding turtleback stories judy explora translator harry greg ciclo \n",
      "\n",
      "Group: 7\n",
      "\n",
      "house tree magic pope osborne murdocca mary sal salvatore nonfiction companion series guide research natalie boyce night illustrator morning boxed sea dark collection mummies ancient past titanic fact dolphins moon \n",
      "\n",
      "Group: 8\n",
      "\n",
      "magic school bus bruce cole joanna degen created inside chapter carolyn bracken anne degan capeci relf tree house scholastic speirs ruiz stamper judith trip lost dinosaurs patricia gets electric body \n",
      "\n",
      "Group: 9\n",
      "\n",
      "book big hardcover picture bear little fish store paperback red tag band theme connect sound leapfrog bundle audio elephant chicka mouse boom branches innovations piggie bin draw board like cassette \n",
      "\n",
      "Group: 10\n",
      "\n",
      "berenstain bears jan stan trouble bridwell norman day little mayer mercer big bully mike cliffords new bad school illustrator baby brett manners curious clifford gurney series friends rey just roy \n",
      "\n",
      "Group: 11\n",
      "\n",
      "kids time editors biographies world magazine pricing edition nonfiction john orders weekly classroom motivates newsmagazine tfk learn cover best sports wide year valid topics grades range realworld august history placed\n"
     ]
    }
   ],
   "source": [
    "#Further exploration of Topic Modeling Matrices:\n",
    "\n",
    "vect_vocab = {v: k for k, v in count_vect.vocabulary_.iteritems()}\n",
    "\n",
    "H = np.load('./model/resource_nmf_5000.pkl_01.npy')\n",
    "\n",
    "for i in xrange(12):\n",
    "    print '\\n'\n",
    "    print 'Group: ' + str(i)\n",
    "    items = np.argsort(H[i])[-30:][::-1]\n",
    "    print ''\n",
    "    for j in items:\n",
    "        print vect_vocab[j], "
   ]
  },
  {
   "cell_type": "markdown",
   "metadata": {},
   "source": [
    "Next Possible Steps.. \n",
    "Compare vs Neural Network\n",
    "Add sentiment analysis for full project descriptions (text)\n",
    "Add the final column that shows whether or not it was a given teachers first project\n"
   ]
  },
  {
   "cell_type": "code",
   "execution_count": null,
   "metadata": {
    "collapsed": true
   },
   "outputs": [],
   "source": []
  }
 ],
 "metadata": {
  "kernelspec": {
   "display_name": "Python 2",
   "language": "python",
   "name": "python2"
  },
  "language_info": {
   "codemirror_mode": {
    "name": "ipython",
    "version": 2
   },
   "file_extension": ".py",
   "mimetype": "text/x-python",
   "name": "python",
   "nbconvert_exporter": "python",
   "pygments_lexer": "ipython2",
   "version": "2.7.11"
  }
 },
 "nbformat": 4,
 "nbformat_minor": 0
}
