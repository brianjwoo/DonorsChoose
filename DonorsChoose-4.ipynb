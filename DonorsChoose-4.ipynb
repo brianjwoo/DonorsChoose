{
 "cells": [
  {
   "cell_type": "code",
   "execution_count": 1,
   "metadata": {
    "collapsed": false
   },
   "outputs": [],
   "source": [
    "#M4.4XLarge EC2\n",
    "import pandas as pd\n",
    "import numpy as np\n",
    "import re\n",
    "import string\n",
    "import sys\n",
    "import os\n",
    "import datetime\n",
    "\n",
    "import matplotlib.pyplot as plt\n",
    "\n",
    "from sklearn.preprocessing import Imputer\n",
    "from sklearn.preprocessing import LabelEncoder\n",
    "from sklearn.feature_extraction.text import CountVectorizer\n",
    "from sklearn.ensemble import RandomForestClassifier\n",
    "from sklearn.linear_model import LogisticRegression\n",
    "from sklearn.grid_search import GridSearchCV, RandomizedSearchCV\n",
    "\n",
    "from sklearn.metrics import roc_auc_score\n",
    "from sklearn.metrics import roc_curve\n",
    "\n",
    "from sklearn.cross_validation import cross_val_score\n",
    "from sklearn.cross_validation import train_test_split\n",
    "from sklearn.externals import joblib\n",
    "\n",
    "from collections import Counter\n",
    "\n",
    "from xgboost import XGBClassifier\n",
    "\n",
    "%matplotlib inline"
   ]
  },
  {
   "cell_type": "code",
   "execution_count": 2,
   "metadata": {
    "collapsed": false
   },
   "outputs": [],
   "source": [
    "projects = pd.read_csv('./data/opendata_projects.csv') #878852 Entries\n",
    "projects = projects.loc[(projects.funding_status == 'completed') | (projects.funding_status == 'expired')] #846164"
   ]
  },
  {
   "cell_type": "code",
   "execution_count": 3,
   "metadata": {
    "collapsed": false
   },
   "outputs": [
    {
     "name": "stdout",
     "output_type": "stream",
     "text": [
      "Benchmarks::\n"
     ]
    },
    {
     "data": {
      "text/plain": [
       "completed    0.700523\n",
       "expired      0.299477\n",
       "Name: funding_status, dtype: float64"
      ]
     },
     "execution_count": 3,
     "metadata": {},
     "output_type": "execute_result"
    }
   ],
   "source": [
    "print \"Benchmarks::\"\n",
    "projects.funding_status.value_counts()/projects.shape[0]"
   ]
  },
  {
   "cell_type": "code",
   "execution_count": 4,
   "metadata": {
    "collapsed": false
   },
   "outputs": [],
   "source": [
    "#Should generate time stamp as real date for visuals\n",
    "\n",
    "#projects.set_index('_projectid', inplace =True)\n",
    "projects['Year'] = projects.date_posted.map(lambda d: d[:4]).astype('int') #Should be Categorical but converting as Int for now\n",
    "projects['Month'] = projects.date_posted.map(lambda d: d[5:7]).astype('int') #Should be Categorical but converting as Int for now"
   ]
  },
  {
   "cell_type": "code",
   "execution_count": 5,
   "metadata": {
    "collapsed": true
   },
   "outputs": [],
   "source": [
    "projects = projects[projects.Year > 2006] #Subset based on plot"
   ]
  },
  {
   "cell_type": "code",
   "execution_count": 6,
   "metadata": {
    "collapsed": true
   },
   "outputs": [],
   "source": [
    "#Fix Date Times Vars\n",
    "for c in projects.columns:\n",
    "    if 'date' in c:\n",
    "        projects[c] = pd.to_datetime(projects[c], format=\"%Y-%m-%d %H:%M:%S\")"
   ]
  },
  {
   "cell_type": "code",
   "execution_count": 7,
   "metadata": {
    "collapsed": true
   },
   "outputs": [],
   "source": [
    "# project_cols_subset = ['_projectid', '_teacher_acctid', '_schoolid', \n",
    "#                        'school_latitude', 'school_longitude', \n",
    "#                        'school_city', 'school_state', 'school_zip', 'school_metro',\n",
    "#                        'school_charter', 'school_magnet', 'school_year_round',\n",
    "#                        'school_nlns', 'school_kipp', 'school_charter_ready_promise',\n",
    "#                        'teacher_prefix', 'teacher_teach_for_america', 'teacher_ny_teaching_fellow',\n",
    "#                        'primary_focus_subject', 'primary_focus_area',\n",
    "#                        'secondary_focus_subject', 'secondary_focus_area',\n",
    "#                        'resource_type', 'poverty_level', 'grade_level', \n",
    "#                        'total_price_excluding_optional_support', 'total_price_including_optional_support',\n",
    "#                        'students_reached', 'total_donations', 'num_donors',\n",
    "#                        'eligible_double_your_impact_match', 'eligible_almost_home_match', 'funding_status',\n",
    "#                        'date_posted', 'date_completed', 'date_thank_you_packet_mailed'] #36 Columns"
   ]
  },
  {
   "cell_type": "code",
   "execution_count": 8,
   "metadata": {
    "collapsed": true
   },
   "outputs": [],
   "source": [
    "projects.students_reached.fillna(value = projects.students_reached.median(), inplace = True)"
   ]
  },
  {
   "cell_type": "code",
   "execution_count": 9,
   "metadata": {
    "collapsed": false
   },
   "outputs": [],
   "source": [
    "#Feature Engineering 1\n",
    "project_posted_1 = min(projects.date_posted)\n",
    "def time_since_first_post(post_date):\n",
    "    return (post_date - project_posted_1).days"
   ]
  },
  {
   "cell_type": "code",
   "execution_count": 10,
   "metadata": {
    "collapsed": false
   },
   "outputs": [],
   "source": [
    "projects['Day'] = projects.date_posted.map(time_since_first_post) #Feature that represents how long since first data point"
   ]
  },
  {
   "cell_type": "code",
   "execution_count": 11,
   "metadata": {
    "collapsed": false
   },
   "outputs": [],
   "source": [
    "#Not useful\n",
    "spring = range(80, 172)\n",
    "summer = range(172, 264)\n",
    "fall = range(264, 355)\n",
    "\n",
    "def dt_to_season(dt):\n",
    "    if dt.dayofyear in spring:\n",
    "        return 'spring'\n",
    "    elif dt.dayofyear in summer:\n",
    "        return 'summer'\n",
    "    elif dt.dayofyear in fall:\n",
    "        return 'fall'\n",
    "    else:\n",
    "        return 'winter'"
   ]
  },
  {
   "cell_type": "code",
   "execution_count": 12,
   "metadata": {
    "collapsed": false
   },
   "outputs": [],
   "source": [
    "projects['season_posted'] = projects.date_posted.map(dt_to_season)"
   ]
  },
  {
   "cell_type": "code",
   "execution_count": 13,
   "metadata": {
    "collapsed": false
   },
   "outputs": [],
   "source": [
    "external_zips_xtract = pd.read_csv('./data/census/clean_xtract.csv') #(32653, 27) 2 Obj Columns, Need to fix AltZips"
   ]
  },
  {
   "cell_type": "code",
   "execution_count": 14,
   "metadata": {
    "collapsed": false
   },
   "outputs": [],
   "source": [
    "extra_zips = external_zips_xtract.loc[pd.notnull(external_zips_xtract.AltZIPs)]\n",
    "extra_zips_to_append = pd.DataFrame(columns=external_zips_xtract.columns)\n",
    "\n",
    "for ind, r in extra_zips.iterrows():\n",
    "    extra_zip_codes = r.AltZIPs.split()\n",
    "    for z in extra_zip_codes:\n",
    "        tmp =  r.copy()\n",
    "        tmp.zcta5 = z\n",
    "        extra_zips_to_append = extra_zips_to_append.append(tmp)\n",
    "        \n",
    "external_zips_xtract = external_zips_xtract.append(extra_zips_to_append) #This did not help, extra zips not in data"
   ]
  },
  {
   "cell_type": "code",
   "execution_count": 15,
   "metadata": {
    "collapsed": false
   },
   "outputs": [],
   "source": [
    "external_zips_xtract.drop('AltZIPs', axis = 1, inplace = True)\n",
    "external_zips_xtract.CBSAType.fillna('Unknown', inplace = True)"
   ]
  },
  {
   "cell_type": "code",
   "execution_count": null,
   "metadata": {
    "collapsed": false
   },
   "outputs": [],
   "source": []
  },
  {
   "cell_type": "code",
   "execution_count": 16,
   "metadata": {
    "collapsed": false
   },
   "outputs": [],
   "source": [
    "#Lazy method of filling in NaNs should use State information to fill in Nulls\n",
    "for c in external_zips_xtract.columns:\n",
    "    if external_zips_xtract[c].dtypes != 'object':\n",
    "        median = np.median(external_zips_xtract[c][~np.isnan(external_zips_xtract[c])])\n",
    "        external_zips_xtract[c].fillna(median, inplace = True)"
   ]
  },
  {
   "cell_type": "code",
   "execution_count": 17,
   "metadata": {
    "collapsed": false
   },
   "outputs": [],
   "source": [
    "projects = pd.merge(projects, external_zips_xtract, how='left', left_on='school_zip', right_on='zcta5')\n",
    "projects.set_index('_projectid', inplace = True)"
   ]
  },
  {
   "cell_type": "code",
   "execution_count": null,
   "metadata": {
    "collapsed": false
   },
   "outputs": [],
   "source": []
  },
  {
   "cell_type": "code",
   "execution_count": 18,
   "metadata": {
    "collapsed": false
   },
   "outputs": [],
   "source": [
    "irrelvant_cols = []\n",
    "for c in projects.columns:\n",
    "    if projects[c].dtypes == 'object':\n",
    "        if projects[c].nunique() > 52:\n",
    "            irrelvant_cols.append(c)\n",
    "irrelvant_cols += ['school_zip', 'school_latitude', 'school_longitude']            "
   ]
  },
  {
   "cell_type": "code",
   "execution_count": 19,
   "metadata": {
    "collapsed": false
   },
   "outputs": [],
   "source": [
    "for c in projects.columns:\n",
    "    if projects[c].dtypes == '<M8[ns]':\n",
    "        irrelvant_cols.append(c)"
   ]
  },
  {
   "cell_type": "code",
   "execution_count": 20,
   "metadata": {
    "collapsed": false
   },
   "outputs": [],
   "source": [
    "data_leakage = ['total_donations', 'num_donors']\n",
    "irrelvant_cols += data_leakage"
   ]
  },
  {
   "cell_type": "code",
   "execution_count": 21,
   "metadata": {
    "collapsed": true
   },
   "outputs": [],
   "source": [
    "model_target = ['funding_status']"
   ]
  },
  {
   "cell_type": "code",
   "execution_count": 22,
   "metadata": {
    "collapsed": false
   },
   "outputs": [
    {
     "name": "stderr",
     "output_type": "stream",
     "text": [
      "/home/ubuntu/anaconda/lib/python2.7/site-packages/numpy/lib/arraysetops.py:200: FutureWarning: numpy not_equal will not check object identity in the future. The comparison did not return the same result as suggested by the identity (`is`)) and will change.\n",
      "  flag = np.concatenate(([True], aux[1:] != aux[:-1]))\n"
     ]
    }
   ],
   "source": [
    "model_df = projects.drop(irrelvant_cols, axis = 1) #Early phase model\n",
    "\n",
    "enc = {}\n",
    "for c in model_df.columns:\n",
    "    if model_df[c].dtype == 'object':\n",
    "        enc[c] = LabelEncoder()\n",
    "        model_df[c] = enc[c].fit_transform(model_df[c])"
   ]
  },
  {
   "cell_type": "code",
   "execution_count": 23,
   "metadata": {
    "collapsed": false
   },
   "outputs": [],
   "source": [
    "#Lazy way of imputing columns using median\n",
    "for c in model_df.columns:\n",
    "    median = np.median(model_df[c][~np.isnan(model_df[c])])\n",
    "    model_df[c].fillna(median, inplace = True)"
   ]
  },
  {
   "cell_type": "code",
   "execution_count": 24,
   "metadata": {
    "collapsed": false
   },
   "outputs": [
    {
     "data": {
      "text/plain": [
       "RandomForestClassifier(bootstrap=True, class_weight=None, criterion='gini',\n",
       "            max_depth=None, max_features='auto', max_leaf_nodes=None,\n",
       "            min_samples_leaf=1, min_samples_split=2,\n",
       "            min_weight_fraction_leaf=0.0, n_estimators=50, n_jobs=-1,\n",
       "            oob_score=True, random_state=None, verbose=0, warm_start=False)"
      ]
     },
     "execution_count": 24,
     "metadata": {},
     "output_type": "execute_result"
    }
   ],
   "source": [
    "X = model_df.drop(model_target, axis = 1).values\n",
    "y = model_df[model_target].values.ravel()\n",
    "\n",
    "indices = np.arange(X.shape[0])\n",
    "np.random.shuffle(indices)\n",
    "\n",
    "X = X[indices]\n",
    "y = y[indices]\n",
    "\n",
    "X_train, X_test, y_train, y_test = train_test_split(X, y)\n",
    "\n",
    "rf = RandomForestClassifier(n_estimators=50, oob_score=True, n_jobs = -1)\n",
    "rf.fit(X_train, y_train)"
   ]
  },
  {
   "cell_type": "code",
   "execution_count": 25,
   "metadata": {
    "collapsed": true
   },
   "outputs": [],
   "source": [
    "cols = model_df.drop(model_target, axis = 1).columns #59"
   ]
  },
  {
   "cell_type": "code",
   "execution_count": 26,
   "metadata": {
    "collapsed": false
   },
   "outputs": [
    {
     "name": "stdout",
     "output_type": "stream",
     "text": [
      "('payment_processing_charges', 0.064129160493091114)\n",
      "('total_price_including_optional_support', 0.057644660266298831)\n",
      "('total_price_excluding_optional_support', 0.056050468395608934)\n",
      "('Day', 0.055441503734182281)\n",
      "('students_reached', 0.034708698426263548)\n",
      "('Month', 0.027622933399899356)\n",
      "('vendor_shipping_charges', 0.026924916275477159)\n",
      "('sales_tax', 0.023645523872134113)\n",
      "('LandSQMI', 0.02328010366869853)\n",
      "('primary_focus_subject', 0.02301203851551778)\n",
      "('secondary_focus_subject', 0.022825968267160511)\n",
      "('pctRenterOcc', 0.02224328457847366)\n",
      "('school_ncesid', 0.021997620063069587)\n",
      "('MedianHValue', 0.021110678249244647)\n",
      "('pctWhite1', 0.019581275115359943)\n",
      "('MedianGrossRent', 0.01878647960653259)\n",
      "('pctInCollege', 0.018603134102429069)\n",
      "('pctForeignBorn', 0.018551368836417455)\n",
      "('pctBachelorsormore', 0.018389182191192521)\n",
      "('pctBlack1', 0.018253503877438709)\n"
     ]
    }
   ],
   "source": [
    " for f in sorted(zip(cols, rf.feature_importances_), key = lambda x: x[1], reverse = True)[:20]:\n",
    "     print f"
   ]
  },
  {
   "cell_type": "code",
   "execution_count": 27,
   "metadata": {
    "collapsed": false
   },
   "outputs": [
    {
     "name": "stdout",
     "output_type": "stream",
     "text": [
      "0.756685627382\n",
      "0.746973198238\n"
     ]
    }
   ],
   "source": [
    "#PRELIMINARY RESULTS\n",
    "print rf.score(X_test, y_test)\n",
    "print rf.oob_score_"
   ]
  },
  {
   "cell_type": "code",
   "execution_count": 28,
   "metadata": {
    "collapsed": true
   },
   "outputs": [],
   "source": [
    "#Looking at resources requested for each project\n",
    "f = open('./data/opendata_resources.csv')\n",
    "header = f.readline().split(',')\n",
    "\n",
    "header = [c.strip() for c in header]\n",
    "resources_raw = f.read()\n",
    "f.close()\n",
    "\n",
    "resources_row_text = re.split('\"\\n\"', resources_raw)\n",
    "resouces_for_df = []\n",
    "for row in resources_row_text:\n",
    "    resouces_for_df.append(re.split('\",\"', row))\n",
    "resources = pd.DataFrame(resouces_for_df, columns=header)\n",
    "del resources_raw\n",
    "del resources_row_text\n",
    "del resouces_for_df"
   ]
  },
  {
   "cell_type": "code",
   "execution_count": 29,
   "metadata": {
    "collapsed": true
   },
   "outputs": [],
   "source": [
    "resources.iloc[0,0] = resources.iloc[0,0][1:] #fixes the parsing issue\n",
    "resources.iloc[-1,-1] = 1 #fixes the parsing issue"
   ]
  },
  {
   "cell_type": "code",
   "execution_count": 30,
   "metadata": {
    "collapsed": true
   },
   "outputs": [],
   "source": [
    "resources.set_index('_projectid', inplace = True)\n",
    "\n",
    "resources['vendorid'] = resources.vendorid.map(lambda x: -1 if x == '' else x).astype('int')\n",
    "resources['vendor_name'] = resources.vendor_name.map(lambda x: 'Unknown' if x == '' else x)\n",
    "resources['item_name'] = resources.item_name.map(lambda x: 'Unknown' if x == '' else x)\n",
    "resources['item_number'] = resources.item_number.map(lambda x: -1 if x == '' else x)\n",
    "resources['item_unit_price'] = resources.item_unit_price.map(lambda x: 14.00 if x == '' else x).astype('float') #median = 13.86 \n",
    "resources['item_quantity'] = resources.item_quantity.map(lambda x: 1 if x == '' else x).astype('int') #median = 1\n",
    "\n",
    "resources['price times quantity'] = resources.item_unit_price * resources.item_quantity"
   ]
  },
  {
   "cell_type": "code",
   "execution_count": 31,
   "metadata": {
    "collapsed": true
   },
   "outputs": [],
   "source": [
    "#Helper Functions\n",
    "def join_text(list_str):\n",
    "    return ' '.join(list_str)\n",
    "\n",
    "def only_words(s):\n",
    "    s = s.lower().translate(None, string.punctuation + string.digits)\n",
    "    return ''.join([c for c in s if c in string.ascii_lowercase + ' '])"
   ]
  },
  {
   "cell_type": "code",
   "execution_count": 32,
   "metadata": {
    "collapsed": false
   },
   "outputs": [],
   "source": [
    "resources_gb = resources.groupby(resources.index)\n",
    "resources_agg = resources_gb.agg({'item_unit_price': [np.min, np.max], 'item_quantity':[np.sum], 'item_name':[join_text], 'price times quantity':[np.sum] })\n",
    "resources_agg[('item_name','join_text')] = resources_agg[('item_name','join_text')].map(only_words)\n",
    "\n",
    "resources_agg['avg_price'] = resources_agg[('price times quantity', 'sum')]/resources_agg[('item_quantity','sum')]\n",
    "#resources_agg.head()"
   ]
  },
  {
   "cell_type": "code",
   "execution_count": 33,
   "metadata": {
    "collapsed": false
   },
   "outputs": [
    {
     "name": "stdout",
     "output_type": "stream",
     "text": [
      "(878528, 6)\n",
      "(810096, 58)\n"
     ]
    }
   ],
   "source": [
    "print resources_agg.shape\n",
    "print model_df.shape"
   ]
  },
  {
   "cell_type": "code",
   "execution_count": 34,
   "metadata": {
    "collapsed": false
   },
   "outputs": [],
   "source": [
    "model_df = model_df.join(resources_agg, how = 'inner')"
   ]
  },
  {
   "cell_type": "code",
   "execution_count": 35,
   "metadata": {
    "collapsed": false
   },
   "outputs": [],
   "source": [
    "del projects\n",
    "del resources_agg"
   ]
  },
  {
   "cell_type": "code",
   "execution_count": 36,
   "metadata": {
    "collapsed": true
   },
   "outputs": [],
   "source": [
    "X = model_df.drop([('item_name', 'join_text')] + model_target, axis = 1).values\n",
    "y = model_df[model_target].values.ravel()"
   ]
  },
  {
   "cell_type": "code",
   "execution_count": 37,
   "metadata": {
    "collapsed": false
   },
   "outputs": [],
   "source": [
    "#model_df[('item_name', 'join_text')].head()"
   ]
  },
  {
   "cell_type": "code",
   "execution_count": 38,
   "metadata": {
    "collapsed": false
   },
   "outputs": [],
   "source": [
    "if os.path.exists('./model/resource_count_vect.pkl'):\n",
    "    count_vect = joblib.load('./model/resource_count_vect.pkl')\n",
    "else:\n",
    "    print 'Error No Vectorizer'\n",
    "    #Taken From Resources\n",
    "    #resource_count_vect = CountVectorizer(stop_words='english', max_features=10000, token_pattern=u'(?u)\\\\b\\\\w\\\\w{2,}\\\\b') #3 or more letters\n",
    "    #X = resource_count_vect.fit_transform(data[('item_name', 'join_text')])\n",
    "    #joblib.dump(resource_count_vect, './model/resource_count_vect.pkl') \n",
    "if os.path.exists('./model/resource_nmf_5000.pkl'):\n",
    "    nmf = joblib.load('./model/resource_nmf_5000.pkl')\n",
    "else:\n",
    "    print 'Error No NMF'\n",
    "#     resource_nmf_5000 = NMF(n_components = 50, max_iter= 10, random_state=42) #Should be 10000\n",
    "#     X_nmf = resource_nmf_5000.fit_transform(X)\n",
    "#     joblib.dump(resource_nmf_5000, './model/resource_nmf_5000.pkl') "
   ]
  },
  {
   "cell_type": "code",
   "execution_count": 39,
   "metadata": {
    "collapsed": false
   },
   "outputs": [],
   "source": [
    "X_text = count_vect.transform(model_df[('item_name', 'join_text')])\n",
    "X_text = nmf.transform(X_text)"
   ]
  },
  {
   "cell_type": "code",
   "execution_count": 40,
   "metadata": {
    "collapsed": false
   },
   "outputs": [],
   "source": [
    "n_text_cols = 20 #Only 20 of the 50 are taken since the previous time I had run the RF only the first few were useful\n",
    "\n",
    "X = np.hstack((X, X_text[:,:n_text_cols]))"
   ]
  },
  {
   "cell_type": "code",
   "execution_count": 41,
   "metadata": {
    "collapsed": true
   },
   "outputs": [],
   "source": [
    "indices = np.arange(X.shape[0])\n",
    "\n",
    "np.random.seed(321)\n",
    "np.random.shuffle(indices,)\n",
    "\n",
    "X = X[indices]\n",
    "y = y[indices]\n",
    "\n",
    "X_train, X_test, y_train, y_test = train_test_split(X, y, test_size = 25000, random_state = 1)"
   ]
  },
  {
   "cell_type": "code",
   "execution_count": 42,
   "metadata": {
    "collapsed": false
   },
   "outputs": [
    {
     "data": {
      "text/plain": [
       "0.70304"
      ]
     },
     "execution_count": 42,
     "metadata": {},
     "output_type": "execute_result"
    }
   ],
   "source": [
    "#Generate Logistic Regression Model\n",
    "log = LogisticRegression()\n",
    "log.fit(X_train, y_train)\n",
    "log.score(X_test, y_test)"
   ]
  },
  {
   "cell_type": "code",
   "execution_count": 43,
   "metadata": {
    "collapsed": false
   },
   "outputs": [
    {
     "name": "stdout",
     "output_type": "stream",
     "text": [
      "0.757\n",
      "0.749864346072\n"
     ]
    }
   ],
   "source": [
    "rf2 = RandomForestClassifier(n_estimators=100, oob_score=True, n_jobs = -1, random_state = 1)\n",
    "rf2.fit(X_train, y_train)\n",
    "\n",
    "print rf2.score(X_test, y_test)\n",
    "print rf2.oob_score_"
   ]
  },
  {
   "cell_type": "code",
   "execution_count": 44,
   "metadata": {
    "collapsed": false,
    "scrolled": true
   },
   "outputs": [
    {
     "name": "stdout",
     "output_type": "stream",
     "text": [
      "('Day', 0.038001392935257998)\n",
      "('payment_processing_charges', 0.037630537705695077)\n",
      "('total_price_including_optional_support', 0.037502299472318916)\n",
      "('total_price_excluding_optional_support', 0.035664282120950255)\n",
      "('3', 0.03144510186908038)\n",
      "('2', 0.026298183786670398)\n",
      "('4', 0.025898334284220476)\n",
      "('1', 0.023968919242111485)\n",
      "('students_reached', 0.021757471958314768)\n",
      "('LandSQMI', 0.020653803124985749)\n",
      "('Month', 0.019174167131766305)\n",
      "('pctRenterOcc', 0.019090365889139725)\n",
      "('MedianHValue', 0.018028970069624461)\n",
      "('school_ncesid', 0.017680789562035365)\n",
      "('pctWhite1', 0.017003495238714753)\n",
      "('vendor_shipping_charges', 0.016475138890434365)\n",
      "('MedianGrossRent', 0.016130091156758571)\n",
      "('pctForeignBorn', 0.015968666480560875)\n",
      "('pctInCollege', 0.015887917353695408)\n",
      "('pctBachelorsormore', 0.015757748673868817)\n"
     ]
    }
   ],
   "source": [
    "for f in sorted(zip(list(cols) + (map(str, range(n_text_cols))), rf2.feature_importances_), key = lambda x: x[1], reverse = True)[:20]:\n",
    "    print f"
   ]
  },
  {
   "cell_type": "code",
   "execution_count": 45,
   "metadata": {
    "collapsed": true
   },
   "outputs": [],
   "source": [
    "#Possibly adding many non-useful columns making model worse"
   ]
  },
  {
   "cell_type": "code",
   "execution_count": 46,
   "metadata": {
    "collapsed": false
   },
   "outputs": [],
   "source": [
    "# grid_params = {'max_depth': [5,10,15], 'subsample': [.6,.8], 'colsample_bytree':[.6,.8], 'n_estimators':[250,500]}\n",
    "\n",
    "# xgb_rcv = RandomizedSearchCV(XGBClassifier(), param_distributions=grid_params, random_state=1, cv = 4)\n",
    "\n",
    "# xgb_rcv.fit(X_train, y_train)\n",
    "# joblib.dump(xgb_rcv, './model/xgb_rcv.pkl')"
   ]
  },
  {
   "cell_type": "code",
   "execution_count": 48,
   "metadata": {
    "collapsed": false
   },
   "outputs": [],
   "source": [
    "# xgb_rcv.score(X_test,y_test)"
   ]
  },
  {
   "cell_type": "code",
   "execution_count": 49,
   "metadata": {
    "collapsed": false
   },
   "outputs": [],
   "source": [
    "if os.path.exists('./model/xgb_rcv2.pkl'):\n",
    "    xgb_rcv2 = joblib.load('./model/xgb_rcv2.pkl')\n",
    "else:\n",
    "    print 'Need to Train Model!!'\n",
    "\n",
    "#     grid_params2 = {'max_depth': [12,18], 'subsample': [.8], 'colsample_bytree':[.6], 'n_estimators':[300,600]}\n",
    "#     xgb_rcv2 = GridSearchCV(XGBClassifier(), param_grid=grid_params2, cv = 4)\n",
    "#     xgb_rcv2.fit(X_train, y_train)\n",
    "#     joblib.dump(xgb_rcv2, './model/xgb_rcv2.pkl')"
   ]
  },
  {
   "cell_type": "code",
   "execution_count": 50,
   "metadata": {
    "collapsed": false
   },
   "outputs": [
    {
     "name": "stdout",
     "output_type": "stream",
     "text": [
      "0.999794926925\n",
      "0.749864346072\n",
      "0.757\n"
     ]
    }
   ],
   "source": [
    "print rf2.score(X_train, y_train)\n",
    "print rf2.oob_score_\n",
    "print rf2.score(X_test, y_test)\n"
   ]
  },
  {
   "cell_type": "code",
   "execution_count": 51,
   "metadata": {
    "collapsed": false
   },
   "outputs": [
    {
     "data": {
      "text/plain": [
       "0.77445668275276347"
      ]
     },
     "execution_count": 51,
     "metadata": {},
     "output_type": "execute_result"
    }
   ],
   "source": [
    "xgb_rcv2.best_score_"
   ]
  },
  {
   "cell_type": "code",
   "execution_count": 52,
   "metadata": {
    "collapsed": false
   },
   "outputs": [
    {
     "data": {
      "text/plain": [
       "[mean: 0.77446, std: 0.00073, params: {'n_estimators': 600, 'subsample': 0.8, 'colsample_bytree': 0.6, 'max_depth': 18},\n",
       " mean: 0.77309, std: 0.00094, params: {'n_estimators': 600, 'subsample': 0.8, 'colsample_bytree': 0.6, 'max_depth': 12},\n",
       " mean: 0.77299, std: 0.00095, params: {'n_estimators': 300, 'subsample': 0.8, 'colsample_bytree': 0.6, 'max_depth': 18},\n",
       " mean: 0.77215, std: 0.00039, params: {'n_estimators': 300, 'subsample': 0.8, 'colsample_bytree': 0.6, 'max_depth': 12}]"
      ]
     },
     "execution_count": 52,
     "metadata": {},
     "output_type": "execute_result"
    }
   ],
   "source": [
    "sorted(xgb_rcv2.grid_scores_, key = lambda x: x[1], reverse = True)"
   ]
  },
  {
   "cell_type": "code",
   "execution_count": 53,
   "metadata": {
    "collapsed": false
   },
   "outputs": [
    {
     "name": "stdout",
     "output_type": "stream",
     "text": [
      "0.944580593718\n",
      "0.94332\n"
     ]
    }
   ],
   "source": [
    "print xgb_rcv2.score(X_train, y_train) ##This is from a pickled object not that accurate\n",
    "print xgb_rcv2.score(X_test, y_test)"
   ]
  },
  {
   "cell_type": "code",
   "execution_count": null,
   "metadata": {
    "collapsed": false
   },
   "outputs": [],
   "source": []
  },
  {
   "cell_type": "code",
   "execution_count": 54,
   "metadata": {
    "collapsed": false
   },
   "outputs": [
    {
     "name": "stderr",
     "output_type": "stream",
     "text": [
      "Will train until validation_0 error hasn't decreased in 40 rounds.\n",
      "[0]\tvalidation_0-logloss:0.665783\n",
      "[1]\tvalidation_0-logloss:0.642386\n",
      "[2]\tvalidation_0-logloss:0.622885\n",
      "[3]\tvalidation_0-logloss:0.606909\n",
      "[4]\tvalidation_0-logloss:0.593731\n",
      "[5]\tvalidation_0-logloss:0.581822\n",
      "[6]\tvalidation_0-logloss:0.572742\n",
      "[7]\tvalidation_0-logloss:0.563910\n",
      "[8]\tvalidation_0-logloss:0.555673\n",
      "[9]\tvalidation_0-logloss:0.548345\n",
      "[10]\tvalidation_0-logloss:0.542160\n",
      "[11]\tvalidation_0-logloss:0.536523\n",
      "[12]\tvalidation_0-logloss:0.532141\n",
      "[13]\tvalidation_0-logloss:0.528559\n",
      "[14]\tvalidation_0-logloss:0.525063\n",
      "[15]\tvalidation_0-logloss:0.521811\n",
      "[16]\tvalidation_0-logloss:0.518986\n",
      "[17]\tvalidation_0-logloss:0.516032\n",
      "[18]\tvalidation_0-logloss:0.513471\n",
      "[19]\tvalidation_0-logloss:0.511566\n",
      "[20]\tvalidation_0-logloss:0.509734\n",
      "[21]\tvalidation_0-logloss:0.507797\n",
      "[22]\tvalidation_0-logloss:0.506308\n",
      "[23]\tvalidation_0-logloss:0.504619\n",
      "[24]\tvalidation_0-logloss:0.502822\n",
      "[25]\tvalidation_0-logloss:0.501973\n",
      "[26]\tvalidation_0-logloss:0.500889\n",
      "[27]\tvalidation_0-logloss:0.499432\n",
      "[28]\tvalidation_0-logloss:0.498051\n",
      "[29]\tvalidation_0-logloss:0.497160\n",
      "[30]\tvalidation_0-logloss:0.496380\n",
      "[31]\tvalidation_0-logloss:0.495671\n",
      "[32]\tvalidation_0-logloss:0.494847\n",
      "[33]\tvalidation_0-logloss:0.493453\n",
      "[34]\tvalidation_0-logloss:0.492859\n",
      "[35]\tvalidation_0-logloss:0.492102\n",
      "[36]\tvalidation_0-logloss:0.491532\n",
      "[37]\tvalidation_0-logloss:0.491087\n",
      "[38]\tvalidation_0-logloss:0.490126\n",
      "[39]\tvalidation_0-logloss:0.489403\n",
      "[40]\tvalidation_0-logloss:0.488571\n",
      "[41]\tvalidation_0-logloss:0.487959\n",
      "[42]\tvalidation_0-logloss:0.487231\n",
      "[43]\tvalidation_0-logloss:0.486840\n",
      "[44]\tvalidation_0-logloss:0.486342\n",
      "[45]\tvalidation_0-logloss:0.485965\n",
      "[46]\tvalidation_0-logloss:0.485464\n",
      "[47]\tvalidation_0-logloss:0.483853\n",
      "[48]\tvalidation_0-logloss:0.483715\n",
      "[49]\tvalidation_0-logloss:0.483253\n",
      "[50]\tvalidation_0-logloss:0.483128\n",
      "[51]\tvalidation_0-logloss:0.483023\n",
      "[52]\tvalidation_0-logloss:0.482493\n",
      "[53]\tvalidation_0-logloss:0.482225\n",
      "[54]\tvalidation_0-logloss:0.481799\n",
      "[55]\tvalidation_0-logloss:0.480511\n",
      "[56]\tvalidation_0-logloss:0.479461\n",
      "[57]\tvalidation_0-logloss:0.478892\n",
      "[58]\tvalidation_0-logloss:0.478794\n",
      "[59]\tvalidation_0-logloss:0.478188\n",
      "[60]\tvalidation_0-logloss:0.477498\n",
      "[61]\tvalidation_0-logloss:0.477324\n",
      "[62]\tvalidation_0-logloss:0.476945\n",
      "[63]\tvalidation_0-logloss:0.476621\n",
      "[64]\tvalidation_0-logloss:0.476542\n",
      "[65]\tvalidation_0-logloss:0.476466\n",
      "[66]\tvalidation_0-logloss:0.476083\n",
      "[67]\tvalidation_0-logloss:0.475853\n",
      "[68]\tvalidation_0-logloss:0.475072\n",
      "[69]\tvalidation_0-logloss:0.474899\n",
      "[70]\tvalidation_0-logloss:0.474228\n",
      "[71]\tvalidation_0-logloss:0.473968\n",
      "[72]\tvalidation_0-logloss:0.473605\n",
      "[73]\tvalidation_0-logloss:0.472977\n",
      "[74]\tvalidation_0-logloss:0.472453\n",
      "[75]\tvalidation_0-logloss:0.472269\n",
      "[76]\tvalidation_0-logloss:0.471699\n",
      "[77]\tvalidation_0-logloss:0.471659\n",
      "[78]\tvalidation_0-logloss:0.471562\n",
      "[79]\tvalidation_0-logloss:0.471221\n",
      "[80]\tvalidation_0-logloss:0.471056\n",
      "[81]\tvalidation_0-logloss:0.470926\n",
      "[82]\tvalidation_0-logloss:0.470827\n",
      "[83]\tvalidation_0-logloss:0.470561\n",
      "[84]\tvalidation_0-logloss:0.470380\n",
      "[85]\tvalidation_0-logloss:0.470316\n",
      "[86]\tvalidation_0-logloss:0.470091\n",
      "[87]\tvalidation_0-logloss:0.469821\n",
      "[88]\tvalidation_0-logloss:0.469669\n",
      "[89]\tvalidation_0-logloss:0.469513\n",
      "[90]\tvalidation_0-logloss:0.468899\n",
      "[91]\tvalidation_0-logloss:0.468483\n",
      "[92]\tvalidation_0-logloss:0.468319\n",
      "[93]\tvalidation_0-logloss:0.468146\n",
      "[94]\tvalidation_0-logloss:0.468050\n",
      "[95]\tvalidation_0-logloss:0.467906\n",
      "[96]\tvalidation_0-logloss:0.467713\n",
      "[97]\tvalidation_0-logloss:0.467470\n",
      "[98]\tvalidation_0-logloss:0.467310\n",
      "[99]\tvalidation_0-logloss:0.467197\n",
      "[100]\tvalidation_0-logloss:0.467046\n",
      "[101]\tvalidation_0-logloss:0.467023\n",
      "[102]\tvalidation_0-logloss:0.466931\n",
      "[103]\tvalidation_0-logloss:0.466886\n",
      "[104]\tvalidation_0-logloss:0.466754\n",
      "[105]\tvalidation_0-logloss:0.466759\n",
      "[106]\tvalidation_0-logloss:0.466742\n",
      "[107]\tvalidation_0-logloss:0.466721\n",
      "[108]\tvalidation_0-logloss:0.466590\n",
      "[109]\tvalidation_0-logloss:0.466691\n",
      "[110]\tvalidation_0-logloss:0.466616\n",
      "[111]\tvalidation_0-logloss:0.466620\n",
      "[112]\tvalidation_0-logloss:0.466686\n",
      "[113]\tvalidation_0-logloss:0.466586\n",
      "[114]\tvalidation_0-logloss:0.466555\n",
      "[115]\tvalidation_0-logloss:0.466371\n",
      "[116]\tvalidation_0-logloss:0.466400\n",
      "[117]\tvalidation_0-logloss:0.466278\n",
      "[118]\tvalidation_0-logloss:0.466151\n",
      "[119]\tvalidation_0-logloss:0.466161\n",
      "[120]\tvalidation_0-logloss:0.465850\n",
      "[121]\tvalidation_0-logloss:0.465697\n",
      "[122]\tvalidation_0-logloss:0.465645\n",
      "[123]\tvalidation_0-logloss:0.465395\n",
      "[124]\tvalidation_0-logloss:0.465226\n",
      "[125]\tvalidation_0-logloss:0.464857\n",
      "[126]\tvalidation_0-logloss:0.464869\n",
      "[127]\tvalidation_0-logloss:0.464846\n",
      "[128]\tvalidation_0-logloss:0.464810\n",
      "[129]\tvalidation_0-logloss:0.464794\n",
      "[130]\tvalidation_0-logloss:0.464536\n",
      "[131]\tvalidation_0-logloss:0.464417\n",
      "[132]\tvalidation_0-logloss:0.464381\n",
      "[133]\tvalidation_0-logloss:0.464301\n",
      "[134]\tvalidation_0-logloss:0.464194\n",
      "[135]\tvalidation_0-logloss:0.464195\n",
      "[136]\tvalidation_0-logloss:0.463946\n",
      "[137]\tvalidation_0-logloss:0.463954\n",
      "[138]\tvalidation_0-logloss:0.463917\n",
      "[139]\tvalidation_0-logloss:0.463877\n",
      "[140]\tvalidation_0-logloss:0.463800\n",
      "[141]\tvalidation_0-logloss:0.463765\n",
      "[142]\tvalidation_0-logloss:0.463700\n",
      "[143]\tvalidation_0-logloss:0.463706\n",
      "[144]\tvalidation_0-logloss:0.463609\n",
      "[145]\tvalidation_0-logloss:0.463441\n",
      "[146]\tvalidation_0-logloss:0.463481\n",
      "[147]\tvalidation_0-logloss:0.463295\n",
      "[148]\tvalidation_0-logloss:0.463377\n",
      "[149]\tvalidation_0-logloss:0.463155\n",
      "[150]\tvalidation_0-logloss:0.463198\n",
      "[151]\tvalidation_0-logloss:0.463190\n",
      "[152]\tvalidation_0-logloss:0.462990\n",
      "[153]\tvalidation_0-logloss:0.463045\n",
      "[154]\tvalidation_0-logloss:0.462961\n",
      "[155]\tvalidation_0-logloss:0.462939\n",
      "[156]\tvalidation_0-logloss:0.462896\n",
      "[157]\tvalidation_0-logloss:0.462894\n",
      "[158]\tvalidation_0-logloss:0.462919\n",
      "[159]\tvalidation_0-logloss:0.462914\n",
      "[160]\tvalidation_0-logloss:0.462777\n",
      "[161]\tvalidation_0-logloss:0.462651\n",
      "[162]\tvalidation_0-logloss:0.462670\n",
      "[163]\tvalidation_0-logloss:0.462630\n",
      "[164]\tvalidation_0-logloss:0.462657\n",
      "[165]\tvalidation_0-logloss:0.462566\n",
      "[166]\tvalidation_0-logloss:0.462435\n",
      "[167]\tvalidation_0-logloss:0.462370\n",
      "[168]\tvalidation_0-logloss:0.462257\n",
      "[169]\tvalidation_0-logloss:0.462290\n",
      "[170]\tvalidation_0-logloss:0.462362\n",
      "[171]\tvalidation_0-logloss:0.462190\n",
      "[172]\tvalidation_0-logloss:0.462213\n",
      "[173]\tvalidation_0-logloss:0.462181\n",
      "[174]\tvalidation_0-logloss:0.462159\n",
      "[175]\tvalidation_0-logloss:0.462157\n",
      "[176]\tvalidation_0-logloss:0.462143\n",
      "[177]\tvalidation_0-logloss:0.462101\n",
      "[178]\tvalidation_0-logloss:0.461995\n",
      "[179]\tvalidation_0-logloss:0.461935\n",
      "[180]\tvalidation_0-logloss:0.461934\n",
      "[181]\tvalidation_0-logloss:0.461810\n",
      "[182]\tvalidation_0-logloss:0.461678\n",
      "[183]\tvalidation_0-logloss:0.461615\n",
      "[184]\tvalidation_0-logloss:0.461457\n",
      "[185]\tvalidation_0-logloss:0.461406\n",
      "[186]\tvalidation_0-logloss:0.461159\n",
      "[187]\tvalidation_0-logloss:0.461103\n",
      "[188]\tvalidation_0-logloss:0.461097\n",
      "[189]\tvalidation_0-logloss:0.461100\n",
      "[190]\tvalidation_0-logloss:0.461055\n",
      "[191]\tvalidation_0-logloss:0.460987\n",
      "[192]\tvalidation_0-logloss:0.460987\n",
      "[193]\tvalidation_0-logloss:0.460962\n",
      "[194]\tvalidation_0-logloss:0.460980\n",
      "[195]\tvalidation_0-logloss:0.460985\n",
      "[196]\tvalidation_0-logloss:0.460949\n",
      "[197]\tvalidation_0-logloss:0.460964\n",
      "[198]\tvalidation_0-logloss:0.460994\n",
      "[199]\tvalidation_0-logloss:0.461020\n",
      "[200]\tvalidation_0-logloss:0.461019\n",
      "[201]\tvalidation_0-logloss:0.461023\n",
      "[202]\tvalidation_0-logloss:0.461043\n",
      "[203]\tvalidation_0-logloss:0.461062\n",
      "[204]\tvalidation_0-logloss:0.460997\n",
      "[205]\tvalidation_0-logloss:0.461018\n",
      "[206]\tvalidation_0-logloss:0.461048\n",
      "[207]\tvalidation_0-logloss:0.461052\n",
      "[208]\tvalidation_0-logloss:0.461001\n",
      "[209]\tvalidation_0-logloss:0.461022\n",
      "[210]\tvalidation_0-logloss:0.461008\n",
      "[211]\tvalidation_0-logloss:0.460972\n",
      "[212]\tvalidation_0-logloss:0.460792\n",
      "[213]\tvalidation_0-logloss:0.460780\n",
      "[214]\tvalidation_0-logloss:0.460824\n",
      "[215]\tvalidation_0-logloss:0.460816\n",
      "[216]\tvalidation_0-logloss:0.460821\n",
      "[217]\tvalidation_0-logloss:0.460771\n",
      "[218]\tvalidation_0-logloss:0.460773\n",
      "[219]\tvalidation_0-logloss:0.460802\n",
      "[220]\tvalidation_0-logloss:0.460698\n",
      "[221]\tvalidation_0-logloss:0.460642\n",
      "[222]\tvalidation_0-logloss:0.460641\n",
      "[223]\tvalidation_0-logloss:0.460548\n",
      "[224]\tvalidation_0-logloss:0.460488\n",
      "[225]\tvalidation_0-logloss:0.460548\n",
      "[226]\tvalidation_0-logloss:0.460537\n",
      "[227]\tvalidation_0-logloss:0.460403\n",
      "[228]\tvalidation_0-logloss:0.460317\n",
      "[229]\tvalidation_0-logloss:0.460103\n",
      "[230]\tvalidation_0-logloss:0.460114\n",
      "[231]\tvalidation_0-logloss:0.460167\n",
      "[232]\tvalidation_0-logloss:0.460126\n",
      "[233]\tvalidation_0-logloss:0.460120\n",
      "[234]\tvalidation_0-logloss:0.459973\n",
      "[235]\tvalidation_0-logloss:0.460024\n",
      "[236]\tvalidation_0-logloss:0.459984\n",
      "[237]\tvalidation_0-logloss:0.460022\n",
      "[238]\tvalidation_0-logloss:0.460032\n",
      "[239]\tvalidation_0-logloss:0.459933\n",
      "[240]\tvalidation_0-logloss:0.459943\n",
      "[241]\tvalidation_0-logloss:0.459894\n",
      "[242]\tvalidation_0-logloss:0.459903\n",
      "[243]\tvalidation_0-logloss:0.459952\n",
      "[244]\tvalidation_0-logloss:0.459851\n",
      "[245]\tvalidation_0-logloss:0.459841\n",
      "[246]\tvalidation_0-logloss:0.459869\n",
      "[247]\tvalidation_0-logloss:0.459773\n",
      "[248]\tvalidation_0-logloss:0.459698\n",
      "[249]\tvalidation_0-logloss:0.459744\n",
      "[250]\tvalidation_0-logloss:0.459778\n",
      "[251]\tvalidation_0-logloss:0.459761\n",
      "[252]\tvalidation_0-logloss:0.459701\n",
      "[253]\tvalidation_0-logloss:0.459761\n",
      "[254]\tvalidation_0-logloss:0.459759\n",
      "[255]\tvalidation_0-logloss:0.459778\n",
      "[256]\tvalidation_0-logloss:0.459640\n",
      "[257]\tvalidation_0-logloss:0.459564\n",
      "[258]\tvalidation_0-logloss:0.459536\n",
      "[259]\tvalidation_0-logloss:0.459571\n",
      "[260]\tvalidation_0-logloss:0.459529\n",
      "[261]\tvalidation_0-logloss:0.459535\n",
      "[262]\tvalidation_0-logloss:0.459491\n",
      "[263]\tvalidation_0-logloss:0.459547\n",
      "[264]\tvalidation_0-logloss:0.459638\n",
      "[265]\tvalidation_0-logloss:0.459648\n",
      "[266]\tvalidation_0-logloss:0.459692\n",
      "[267]\tvalidation_0-logloss:0.459724\n",
      "[268]\tvalidation_0-logloss:0.459698\n",
      "[269]\tvalidation_0-logloss:0.459661\n",
      "[270]\tvalidation_0-logloss:0.459698\n",
      "[271]\tvalidation_0-logloss:0.459640\n",
      "[272]\tvalidation_0-logloss:0.459703\n",
      "[273]\tvalidation_0-logloss:0.459721\n",
      "[274]\tvalidation_0-logloss:0.459737\n",
      "[275]\tvalidation_0-logloss:0.459667\n",
      "[276]\tvalidation_0-logloss:0.459635\n",
      "[277]\tvalidation_0-logloss:0.459697\n",
      "[278]\tvalidation_0-logloss:0.459753\n",
      "[279]\tvalidation_0-logloss:0.459756\n",
      "[280]\tvalidation_0-logloss:0.459802\n",
      "[281]\tvalidation_0-logloss:0.459756\n",
      "[282]\tvalidation_0-logloss:0.459714\n",
      "[283]\tvalidation_0-logloss:0.459803\n",
      "[284]\tvalidation_0-logloss:0.459821\n",
      "[285]\tvalidation_0-logloss:0.459851\n",
      "[286]\tvalidation_0-logloss:0.459793\n",
      "[287]\tvalidation_0-logloss:0.459828\n",
      "[288]\tvalidation_0-logloss:0.459813\n",
      "[289]\tvalidation_0-logloss:0.459780\n",
      "[290]\tvalidation_0-logloss:0.459761\n",
      "[291]\tvalidation_0-logloss:0.459776\n",
      "[292]\tvalidation_0-logloss:0.459804\n",
      "[293]\tvalidation_0-logloss:0.459720\n",
      "[294]\tvalidation_0-logloss:0.459799\n",
      "[295]\tvalidation_0-logloss:0.459813\n",
      "[296]\tvalidation_0-logloss:0.459753\n",
      "[297]\tvalidation_0-logloss:0.459813\n",
      "[298]\tvalidation_0-logloss:0.459801\n",
      "[299]\tvalidation_0-logloss:0.459844\n",
      "[300]\tvalidation_0-logloss:0.459814\n",
      "[301]\tvalidation_0-logloss:0.459900\n",
      "[302]\tvalidation_0-logloss:0.459835\n",
      "Stopping. Best iteration:\n",
      "[262]\tvalidation_0-logloss:0.459491\n",
      "\n"
     ]
    },
    {
     "data": {
      "text/plain": [
       "0.78308"
      ]
     },
     "execution_count": 54,
     "metadata": {},
     "output_type": "execute_result"
    }
   ],
   "source": [
    "#Should not run this since I have a GridSearch Model pickled\n",
    "xgb = XGBClassifier(max_depth = 14, subsample=.8, colsample_bytree=.6, n_estimators = 1000, silent=False, seed = 1)\n",
    "xgb.fit(X_train, y_train, eval_set = [(X_test, y_test)], eval_metric = 'logloss', early_stopping_rounds=40)\n",
    "xgb.score(X_test, y_test)"
   ]
  },
  {
   "cell_type": "code",
   "execution_count": 55,
   "metadata": {
    "collapsed": true
   },
   "outputs": [],
   "source": [
    "#GENERATE ROC CURVE"
   ]
  },
  {
   "cell_type": "code",
   "execution_count": 56,
   "metadata": {
    "collapsed": false
   },
   "outputs": [
    {
     "data": {
      "text/plain": [
       "0.78308"
      ]
     },
     "execution_count": 56,
     "metadata": {},
     "output_type": "execute_result"
    }
   ],
   "source": [
    "xgb.score(X_test, y_test)"
   ]
  },
  {
   "cell_type": "code",
   "execution_count": 57,
   "metadata": {
    "collapsed": false
   },
   "outputs": [],
   "source": [
    "#y_proba = rf.predict_proba(X_test)\n",
    "#roc_auc_score(y_test, y_proba[:,1])"
   ]
  },
  {
   "cell_type": "code",
   "execution_count": 58,
   "metadata": {
    "collapsed": false
   },
   "outputs": [
    {
     "data": {
      "text/plain": [
       "0.77634666011425246"
      ]
     },
     "execution_count": 58,
     "metadata": {},
     "output_type": "execute_result"
    }
   ],
   "source": [
    "y_proba = rf2.predict_proba(X_test)\n",
    "roc_auc_score(y_test, y_proba[:,1])"
   ]
  },
  {
   "cell_type": "code",
   "execution_count": 59,
   "metadata": {
    "collapsed": true
   },
   "outputs": [],
   "source": [
    "fpr_rf2, tpr_rf2, thresholds_rf2 = roc_curve(y_test, y_proba[:,1])"
   ]
  },
  {
   "cell_type": "code",
   "execution_count": 60,
   "metadata": {
    "collapsed": false
   },
   "outputs": [
    {
     "data": {
      "text/plain": [
       "0.82260183039445445"
      ]
     },
     "execution_count": 60,
     "metadata": {},
     "output_type": "execute_result"
    }
   ],
   "source": [
    "y_proba = xgb.predict_proba(X_test)\n",
    "roc_auc_score(y_test, y_proba[:,1])"
   ]
  },
  {
   "cell_type": "code",
   "execution_count": 61,
   "metadata": {
    "collapsed": false
   },
   "outputs": [],
   "source": [
    "fpr_xgb, tpr_xgb, thresholds_xgb = roc_curve(y_test, y_proba[:,1])"
   ]
  },
  {
   "cell_type": "code",
   "execution_count": 64,
   "metadata": {
    "collapsed": false
   },
   "outputs": [
    {
     "data": {
      "image/png": "[encoded data removed]",
      "text/plain": [
       "<matplotlib.figure.Figure at 0x7f35574733d0>"
      ]
     },
     "metadata": {},
     "output_type": "display_data"
    }
   ],
   "source": [
    "plt.plot(fpr_rf2, tpr_rf2, label='rf2', c = 'g')\n",
    "plt.plot(fpr_xgb, tpr_xgb, label='xgb', c = 'r')\n",
    "#plt.plot()\n",
    "plt.xlabel('False Positive Rate')\n",
    "plt.ylabel('True Positive Rate')\n",
    "plt.title('ROC Curve')\n",
    "plt.legend()\n",
    "plt.show()"
   ]
  },
  {
   "cell_type": "code",
   "execution_count": 63,
   "metadata": {
    "collapsed": false
   },
   "outputs": [
    {
     "name": "stdout",
     "output_type": "stream",
     "text": [
      "\n",
      "\n",
      "Group: 0\n",
      "\n",
      "illustrator nancy john robert david jane james michael translator brian kevin peter tomie mary chris editor jack robin barbara steven pat harrison ann susan smith martin henkes van paul laura \n",
      "\n",
      "Group: 1\n",
      "\n",
      "level extra nonfiction library book set kgr fiction readers guided reading sightword lexile reader combo rigby right beginning recovery libra platinum fictionnonfiction parent word libraries just plus levels blue sightwords \n",
      "\n",
      "Group: 2\n",
      "\n",
      "set complete library boxed classroom readalongs favorite collection rex paperback leveled write student wipe play giant ball box board piece classic lego jumbo puzzle magnetic class pieces fictionnonfiction games extra \n",
      "\n",
      "Group: 3\n",
      "\n",
      "paper construction amp sulphite superbright green blue holiday red brown dark light pink white orange yellow sheets taye tabu violet targ tabk tavt tapn sky tahg black tawt riverside tard \n",
      "\n",
      "Group: 4\n",
      "\n",
      "series stine goosebumps john vol high jeff nancy rick bluford diary clues riordan street secrets anne smith time classic boxed horrorland matt kinney publishing darren shan krulik kimani tru mysteries \n",
      "\n",
      "Group: 5\n",
      "\n",
      "ipad apple mini case wifi tablet retina ios display cover generation air stand smart mdlla space griffin screen white protective gray ipod survivor proof new feature technology silver blue protection \n",
      "\n",
      "Group: 6\n",
      "\n",
      "edition spanish los del language english bilingual las una mundo scholastic que vida casa para diario fue arbol quien moody cuentos binding turtleback stories judy explora translator harry greg ciclo \n",
      "\n",
      "Group: 7\n",
      "\n",
      "house tree magic pope osborne murdocca mary sal salvatore nonfiction companion series guide research natalie boyce night illustrator morning boxed sea dark collection mummies ancient past titanic fact dolphins moon \n",
      "\n",
      "Group: 8\n",
      "\n",
      "magic school bus bruce cole joanna degen created inside chapter carolyn bracken anne degan capeci relf tree house scholastic speirs ruiz stamper judith trip lost dinosaurs patricia gets electric body \n",
      "\n",
      "Group: 9\n",
      "\n",
      "book big hardcover picture bear little fish store paperback red tag band theme connect sound leapfrog bundle audio elephant chicka mouse boom branches innovations piggie bin draw board like cassette \n",
      "\n",
      "Group: 10\n",
      "\n",
      "berenstain bears jan stan trouble bridwell norman day little mayer mercer big bully mike cliffords new bad school illustrator baby brett manners curious clifford gurney series friends rey just roy \n",
      "\n",
      "Group: 11\n",
      "\n",
      "kids time editors biographies world magazine pricing edition nonfiction john orders weekly classroom motivates newsmagazine tfk learn cover best sports wide year valid topics grades range realworld august history placed\n"
     ]
    }
   ],
   "source": [
    "#Further exploration of Topic Modeling Matrices:\n",
    "\n",
    "vect_vocab = {v: k for k, v in count_vect.vocabulary_.iteritems()}\n",
    "\n",
    "H = np.load('./model/resource_nmf_5000.pkl_01.npy')\n",
    "\n",
    "for i in xrange(12):\n",
    "    print '\\n'\n",
    "    print 'Group: ' + str(i)\n",
    "    items = np.argsort(H[i])[-30:][::-1]\n",
    "    print ''\n",
    "    for j in items:\n",
    "        print vect_vocab[j], "
   ]
  },
  {
   "cell_type": "markdown",
   "metadata": {},
   "source": [
    "Next Possible Steps.. \n",
    "Compare vs Neural Network\n",
    "Add sentiment analysis for full project descriptions (text)\n",
    "Add the final column that shows whether or not it was a given teachers first project\n"
   ]
  },
  {
   "cell_type": "code",
   "execution_count": null,
   "metadata": {
    "collapsed": true
   },
   "outputs": [],
   "source": []
  }
 ],
 "metadata": {
  "kernelspec": {
   "display_name": "Python 2",
   "language": "python",
   "name": "python2"
  },
  "language_info": {
   "codemirror_mode": {
    "name": "ipython",
    "version": 2
   },
   "file_extension": ".py",
   "mimetype": "text/x-python",
   "name": "python",
   "nbconvert_exporter": "python",
   "pygments_lexer": "ipython2",
   "version": "2.7.11"
  }
 },
 "nbformat": 4,
 "nbformat_minor": 0
}
